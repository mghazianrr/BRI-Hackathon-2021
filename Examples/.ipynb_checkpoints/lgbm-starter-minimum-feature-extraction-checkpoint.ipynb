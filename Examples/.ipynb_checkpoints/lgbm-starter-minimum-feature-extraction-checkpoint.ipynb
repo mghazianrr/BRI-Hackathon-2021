{
 "cells": [
  {
   "cell_type": "code",
   "execution_count": 1,
   "metadata": {
    "_cell_guid": "b1076dfc-b9ad-4769-8c92-a6c4dae69d19",
    "_uuid": "8f2839f25d086af736a60e9eeb907d3b93b6e0e5",
    "execution": {
     "iopub.execute_input": "2020-12-10T13:19:17.176694Z",
     "iopub.status.busy": "2020-12-10T13:19:17.175938Z",
     "iopub.status.idle": "2020-12-10T13:19:18.547903Z",
     "shell.execute_reply": "2020-12-10T13:19:18.547236Z"
    },
    "papermill": {
     "duration": 1.395025,
     "end_time": "2020-12-10T13:19:18.548052",
     "exception": false,
     "start_time": "2020-12-10T13:19:17.153027",
     "status": "completed"
    },
    "tags": []
   },
   "outputs": [
    {
     "data": {
      "text/html": [
       "<style type='text/css'>\n",
       ".datatable table.frame { margin-bottom: 0; }\n",
       ".datatable table.frame thead { border-bottom: none; }\n",
       ".datatable table.frame tr.coltypes td {  color: #FFFFFF;  line-height: 6px;  padding: 0 0.5em;}\n",
       ".datatable .bool    { background: #DDDD99; }\n",
       ".datatable .object  { background: #565656; }\n",
       ".datatable .int     { background: #5D9E5D; }\n",
       ".datatable .float   { background: #4040CC; }\n",
       ".datatable .str     { background: #CC4040; }\n",
       ".datatable .row_index {  background: var(--jp-border-color3);  border-right: 1px solid var(--jp-border-color0);  color: var(--jp-ui-font-color3);  font-size: 9px;}\n",
       ".datatable .frame tr.coltypes .row_index {  background: var(--jp-border-color0);}\n",
       ".datatable th:nth-child(2) { padding-left: 12px; }\n",
       ".datatable .hellipsis {  color: var(--jp-cell-editor-border-color);}\n",
       ".datatable .vellipsis {  background: var(--jp-layout-color0);  color: var(--jp-cell-editor-border-color);}\n",
       ".datatable .na {  color: var(--jp-cell-editor-border-color);  font-size: 80%;}\n",
       ".datatable .footer { font-size: 9px; }\n",
       ".datatable .frame_dimensions {  background: var(--jp-border-color3);  border-top: 1px solid var(--jp-border-color0);  color: var(--jp-ui-font-color3);  display: inline-block;  opacity: 0.6;  padding: 1px 10px 1px 5px;}\n",
       ".datatable .frame thead tr.colnames {  background-image: url('data:image/png;base64,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');  background-repeat: repeat-x;  background-size: 14px;  height: 28px;}\n",
       "</style>\n"
      ],
      "text/plain": [
       "<IPython.core.display.HTML object>"
      ]
     },
     "metadata": {},
     "output_type": "display_data"
    }
   ],
   "source": [
    "import numpy as np # linear algebra\n",
    "import pandas as pd # data processing, CSV file I/O (e.g. pd.read_csv)\n",
    "from sklearn.preprocessing import StandardScaler, LabelEncoder\n",
    "from sklearn.model_selection import train_test_split\n",
    "from sklearn.metrics import roc_auc_score\n",
    "import lightgbm as lgb\n",
    "from bayes_opt import BayesianOptimization\n",
    "\n",
    "import os\n",
    "for dirname, _, filenames in os.walk('/kaggle/input'):\n",
    "    for filename in filenames:\n",
    "#         print(os.path.join(dirname, filename))\n",
    "        pass"
   ]
  },
  {
   "cell_type": "code",
   "execution_count": 2,
   "metadata": {
    "_cell_guid": "79c7e3d0-c299-4dcb-8224-4455121ee9b0",
    "_uuid": "d629ff2d2480ee46fbb7e2d37f6b5fab8052498a",
    "execution": {
     "iopub.execute_input": "2020-12-10T13:19:18.586395Z",
     "iopub.status.busy": "2020-12-10T13:19:18.585558Z",
     "iopub.status.idle": "2020-12-10T13:19:18.872539Z",
     "shell.execute_reply": "2020-12-10T13:19:18.871703Z"
    },
    "papermill": {
     "duration": 0.308918,
     "end_time": "2020-12-10T13:19:18.872670",
     "exception": false,
     "start_time": "2020-12-10T13:19:18.563752",
     "status": "completed"
    },
    "tags": []
   },
   "outputs": [],
   "source": [
    "all_train_data = pd.read_csv('../input/bri-data-hackathon-people-analytic/train.csv')\n",
    "all_test_data = pd.read_csv('../input/bri-data-hackathon-people-analytic/test.csv')\n",
    "sample_submission = pd.read_csv('../input/bri-data-hackathon-people-analytic/sample_submission.csv')\n",
    "dropped_columns = ['year_graduated']\n",
    "y_train = all_train_data['Best Performance']\n",
    "X_train = all_train_data.drop('Best Performance',axis=1)\n",
    "for col in dropped_columns:\n",
    "    X_train = X_train.drop(col,axis=1)\n",
    "X_test = all_test_data\n",
    "for col in dropped_columns:\n",
    "    X_test = X_test.drop(col,axis=1)\n",
    "X_train_, X_test_, y_train_, y_test_ = train_test_split(X_train, y_train, test_size=0.2, random_state=38)\n"
   ]
  },
  {
   "cell_type": "code",
   "execution_count": 3,
   "metadata": {
    "execution": {
     "iopub.execute_input": "2020-12-10T13:19:18.902366Z",
     "iopub.status.busy": "2020-12-10T13:19:18.901491Z",
     "iopub.status.idle": "2020-12-10T13:19:18.976976Z",
     "shell.execute_reply": "2020-12-10T13:19:18.976239Z"
    },
    "papermill": {
     "duration": 0.09267,
     "end_time": "2020-12-10T13:19:18.977109",
     "exception": false,
     "start_time": "2020-12-10T13:19:18.884439",
     "status": "completed"
    },
    "tags": []
   },
   "outputs": [
    {
     "ename": "NameError",
     "evalue": "name 'cat' is not defined",
     "output_type": "error",
     "traceback": [
      "\u001b[0;31m---------------------------------------------------------------------------\u001b[0m",
      "\u001b[0;31mNameError\u001b[0m                                 Traceback (most recent call last)",
      "\u001b[0;32m<ipython-input-3-92135717d9f4>\u001b[0m in \u001b[0;36m<module>\u001b[0;34m\u001b[0m\n\u001b[0;32m----> 1\u001b[0;31m \u001b[0mnp\u001b[0m\u001b[0;34m.\u001b[0m\u001b[0munique\u001b[0m\u001b[0;34m(\u001b[0m\u001b[0mX_test\u001b[0m\u001b[0;34m[\u001b[0m\u001b[0mcat\u001b[0m\u001b[0;34m]\u001b[0m\u001b[0;34m)\u001b[0m\u001b[0;34m\u001b[0m\u001b[0;34m\u001b[0m\u001b[0m\n\u001b[0m",
      "\u001b[0;31mNameError\u001b[0m: name 'cat' is not defined"
     ]
    }
   ],
   "source": [
    "np.unique(X_test[cat])"
   ]
  },
  {
   "cell_type": "code",
   "execution_count": 4,
   "metadata": {
    "execution": {
     "iopub.execute_input": "2020-12-10T13:19:19.020111Z",
     "iopub.status.busy": "2020-12-10T13:19:19.012353Z",
     "iopub.status.idle": "2020-12-10T13:19:19.434058Z",
     "shell.execute_reply": "2020-12-10T13:19:19.433361Z"
    },
    "papermill": {
     "duration": 0.44459,
     "end_time": "2020-12-10T13:19:19.434185",
     "exception": false,
     "start_time": "2020-12-10T13:19:18.989595",
     "status": "completed"
    },
    "tags": []
   },
   "outputs": [
    {
     "name": "stderr",
     "output_type": "stream",
     "text": [
      "/opt/conda/lib/python3.7/site-packages/ipykernel_launcher.py:4: SettingWithCopyWarning: \n",
      "A value is trying to be set on a copy of a slice from a DataFrame.\n",
      "Try using .loc[row_indexer,col_indexer] = value instead\n",
      "\n",
      "See the caveats in the documentation: https://pandas.pydata.org/pandas-docs/stable/user_guide/indexing.html#returning-a-view-versus-a-copy\n",
      "  after removing the cwd from sys.path.\n",
      "/opt/conda/lib/python3.7/site-packages/ipykernel_launcher.py:5: SettingWithCopyWarning: \n",
      "A value is trying to be set on a copy of a slice from a DataFrame.\n",
      "Try using .loc[row_indexer,col_indexer] = value instead\n",
      "\n",
      "See the caveats in the documentation: https://pandas.pydata.org/pandas-docs/stable/user_guide/indexing.html#returning-a-view-versus-a-copy\n",
      "  \"\"\"\n"
     ]
    }
   ],
   "source": [
    "cat_columns = ['job_level', 'person_level', 'Employee_type', 'Employee_status', 'gender', 'marital_status_maried(Y/N)', 'Education_level', 'achievement_target_1', 'achievement_target_2', 'achievement_target_3']\n",
    "for cat in cat_columns:\n",
    "    labelencoder = LabelEncoder()\n",
    "    X_train_[cat] = labelencoder.fit_transform(X_train_[cat].astype(str))\n",
    "    X_test_[cat] = labelencoder.transform(X_test_[cat].astype(str))\n",
    "for cat in cat_columns:\n",
    "    labelencoder = LabelEncoder()\n",
    "    X_train[cat] = labelencoder.fit_transform(X_train[cat].astype(str))\n",
    "    X_test[cat] = labelencoder.transform(X_test[cat].astype(str))        \n",
    "    "
   ]
  },
  {
   "cell_type": "code",
   "execution_count": 5,
   "metadata": {
    "execution": {
     "iopub.execute_input": "2020-12-10T13:19:19.469981Z",
     "iopub.status.busy": "2020-12-10T13:19:19.468795Z",
     "iopub.status.idle": "2020-12-10T13:19:20.272962Z",
     "shell.execute_reply": "2020-12-10T13:19:20.272217Z"
    },
    "papermill": {
     "duration": 0.826186,
     "end_time": "2020-12-10T13:19:20.273104",
     "exception": false,
     "start_time": "2020-12-10T13:19:19.446918",
     "status": "completed"
    },
    "tags": []
   },
   "outputs": [],
   "source": [
    "params = {'min_child_weight': 0.6715,\n",
    "                                              'max_depth': 12,\n",
    "                                              'num_leaves': 20,\n",
    "                                            'min_child_samples' :24,\n",
    "                                            'bagging_fraction' : 0.8538,\n",
    "                                            'lambda_l1' : 0.7467,\n",
    "                                            'lambda_l2' : 0.6911\n",
    "                                           }\n",
    "model_lgb = lgb.LGBMClassifier(**params)\n",
    "model_lgb.fit(X_train,y_train)\n",
    "model_lgb.predict_proba(X_test)[:,1]\n",
    "sample_submission['Best Performance'] = model_lgb.predict_proba(X_test)[:,1]\n",
    "sample_submission.to_csv('submission.csv')"
   ]
  },
  {
   "cell_type": "code",
   "execution_count": 6,
   "metadata": {
    "execution": {
     "iopub.execute_input": "2020-12-10T13:19:20.395042Z",
     "iopub.status.busy": "2020-12-10T13:19:20.389332Z",
     "iopub.status.idle": "2020-12-10T13:19:39.915236Z",
     "shell.execute_reply": "2020-12-10T13:19:39.915983Z"
    },
    "papermill": {
     "duration": 19.630226,
     "end_time": "2020-12-10T13:19:39.916179",
     "exception": false,
     "start_time": "2020-12-10T13:19:20.285953",
     "status": "completed"
    },
    "tags": []
   },
   "outputs": [
    {
     "name": "stdout",
     "output_type": "stream",
     "text": [
      "|   iter    |  target   | baggin... | lambda_l1 | lambda_l2 | max_depth | min_ch... | min_ch... | num_le... |\n",
      "-------------------------------------------------------------------------------------------------------------\n",
      "| \u001b[0m 1       \u001b[0m | \u001b[0m 0.6606  \u001b[0m | \u001b[0m 0.7754  \u001b[0m | \u001b[0m 0.7081  \u001b[0m | \u001b[0m 0.2909  \u001b[0m | \u001b[0m 11.09   \u001b[0m | \u001b[0m 45.72   \u001b[0m | \u001b[0m 0.8973  \u001b[0m | \u001b[0m 10.65   \u001b[0m |\n",
      "| \u001b[95m 2       \u001b[0m | \u001b[95m 0.6652  \u001b[0m | \u001b[95m 0.6036  \u001b[0m | \u001b[95m 0.05147 \u001b[0m | \u001b[95m 0.4408  \u001b[0m | \u001b[95m 7.239   \u001b[0m | \u001b[95m 28.27   \u001b[0m | \u001b[95m 0.6527  \u001b[0m | \u001b[95m 17.53   \u001b[0m |\n",
      "| \u001b[0m 3       \u001b[0m | \u001b[0m 0.664   \u001b[0m | \u001b[0m 0.8381  \u001b[0m | \u001b[0m 0.5909  \u001b[0m | \u001b[0m 0.02398 \u001b[0m | \u001b[0m 11.47   \u001b[0m | \u001b[0m 20.37   \u001b[0m | \u001b[0m 0.421   \u001b[0m | \u001b[0m 17.76   \u001b[0m |\n",
      "| \u001b[0m 4       \u001b[0m | \u001b[0m 0.6612  \u001b[0m | \u001b[0m 0.8466  \u001b[0m | \u001b[0m 0.4405  \u001b[0m | \u001b[0m 0.1569  \u001b[0m | \u001b[0m 11.36   \u001b[0m | \u001b[0m 41.21   \u001b[0m | \u001b[0m 0.3133  \u001b[0m | \u001b[0m 14.99   \u001b[0m |\n",
      "| \u001b[0m 5       \u001b[0m | \u001b[0m 0.6626  \u001b[0m | \u001b[0m 0.694   \u001b[0m | \u001b[0m 0.9364  \u001b[0m | \u001b[0m 0.976   \u001b[0m | \u001b[0m 12.38   \u001b[0m | \u001b[0m 46.11   \u001b[0m | \u001b[0m 0.8473  \u001b[0m | \u001b[0m 22.01   \u001b[0m |\n",
      "| \u001b[95m 6       \u001b[0m | \u001b[95m 0.6698  \u001b[0m | \u001b[95m 0.5461  \u001b[0m | \u001b[95m 0.6534  \u001b[0m | \u001b[95m 0.5578  \u001b[0m | \u001b[95m 9.893   \u001b[0m | \u001b[95m 19.0    \u001b[0m | \u001b[95m 0.4125  \u001b[0m | \u001b[95m 26.1    \u001b[0m |\n",
      "| \u001b[0m 7       \u001b[0m | \u001b[0m 0.6592  \u001b[0m | \u001b[0m 0.6346  \u001b[0m | \u001b[0m 0.2918  \u001b[0m | \u001b[0m 0.4577  \u001b[0m | \u001b[0m 13.88   \u001b[0m | \u001b[0m 33.45   \u001b[0m | \u001b[0m 0.2907  \u001b[0m | \u001b[0m 17.51   \u001b[0m |\n",
      "| \u001b[0m 8       \u001b[0m | \u001b[0m 0.656   \u001b[0m | \u001b[0m 0.7273  \u001b[0m | \u001b[0m 0.2054  \u001b[0m | \u001b[0m 0.2014  \u001b[0m | \u001b[0m 11.11   \u001b[0m | \u001b[0m 13.49   \u001b[0m | \u001b[0m 0.4887  \u001b[0m | \u001b[0m 21.3    \u001b[0m |\n",
      "| \u001b[95m 9       \u001b[0m | \u001b[95m 0.67    \u001b[0m | \u001b[95m 0.8538  \u001b[0m | \u001b[95m 0.7467  \u001b[0m | \u001b[95m 0.6911  \u001b[0m | \u001b[95m 12.51   \u001b[0m | \u001b[95m 24.94   \u001b[0m | \u001b[95m 0.6715  \u001b[0m | \u001b[95m 20.29   \u001b[0m |\n",
      "| \u001b[0m 10      \u001b[0m | \u001b[0m 0.6587  \u001b[0m | \u001b[0m 0.7864  \u001b[0m | \u001b[0m 0.3258  \u001b[0m | \u001b[0m 0.4451  \u001b[0m | \u001b[0m 7.492   \u001b[0m | \u001b[0m 19.71   \u001b[0m | \u001b[0m 0.9719  \u001b[0m | \u001b[0m 15.38   \u001b[0m |\n",
      "| \u001b[0m 11      \u001b[0m | \u001b[0m 0.6632  \u001b[0m | \u001b[0m 0.8457  \u001b[0m | \u001b[0m 0.6505  \u001b[0m | \u001b[0m 0.7239  \u001b[0m | \u001b[0m 10.8    \u001b[0m | \u001b[0m 33.87   \u001b[0m | \u001b[0m 0.0763  \u001b[0m | \u001b[0m 8.265   \u001b[0m |\n",
      "| \u001b[0m 12      \u001b[0m | \u001b[0m 0.6602  \u001b[0m | \u001b[0m 0.5995  \u001b[0m | \u001b[0m 0.1519  \u001b[0m | \u001b[0m 0.1001  \u001b[0m | \u001b[0m 8.034   \u001b[0m | \u001b[0m 32.13   \u001b[0m | \u001b[0m 0.1959  \u001b[0m | \u001b[0m 47.84   \u001b[0m |\n",
      "| \u001b[0m 13      \u001b[0m | \u001b[0m 0.6557  \u001b[0m | \u001b[0m 0.8408  \u001b[0m | \u001b[0m 0.541   \u001b[0m | \u001b[0m 0.7072  \u001b[0m | \u001b[0m 9.111   \u001b[0m | \u001b[0m 47.07   \u001b[0m | \u001b[0m 0.8408  \u001b[0m | \u001b[0m 37.68   \u001b[0m |\n",
      "| \u001b[0m 14      \u001b[0m | \u001b[0m 0.6685  \u001b[0m | \u001b[0m 0.7401  \u001b[0m | \u001b[0m 0.8421  \u001b[0m | \u001b[0m 0.7448  \u001b[0m | \u001b[0m 12.28   \u001b[0m | \u001b[0m 46.56   \u001b[0m | \u001b[0m 0.6373  \u001b[0m | \u001b[0m 21.47   \u001b[0m |\n",
      "| \u001b[0m 15      \u001b[0m | \u001b[0m 0.6606  \u001b[0m | \u001b[0m 0.7764  \u001b[0m | \u001b[0m 0.1964  \u001b[0m | \u001b[0m 0.1921  \u001b[0m | \u001b[0m 12.81   \u001b[0m | \u001b[0m 41.4    \u001b[0m | \u001b[0m 0.9724  \u001b[0m | \u001b[0m 43.29   \u001b[0m |\n",
      "| \u001b[0m 16      \u001b[0m | \u001b[0m 0.6635  \u001b[0m | \u001b[0m 0.7718  \u001b[0m | \u001b[0m 0.08979 \u001b[0m | \u001b[0m 0.4889  \u001b[0m | \u001b[0m 14.42   \u001b[0m | \u001b[0m 41.5    \u001b[0m | \u001b[0m 0.4902  \u001b[0m | \u001b[0m 25.49   \u001b[0m |\n",
      "| \u001b[0m 17      \u001b[0m | \u001b[0m 0.6623  \u001b[0m | \u001b[0m 0.609   \u001b[0m | \u001b[0m 0.1772  \u001b[0m | \u001b[0m 0.07362 \u001b[0m | \u001b[0m 14.14   \u001b[0m | \u001b[0m 35.61   \u001b[0m | \u001b[0m 0.1519  \u001b[0m | \u001b[0m 23.64   \u001b[0m |\n",
      "| \u001b[0m 18      \u001b[0m | \u001b[0m 0.6589  \u001b[0m | \u001b[0m 0.5246  \u001b[0m | \u001b[0m 0.2094  \u001b[0m | \u001b[0m 0.7307  \u001b[0m | \u001b[0m 12.21   \u001b[0m | \u001b[0m 29.16   \u001b[0m | \u001b[0m 0.282   \u001b[0m | \u001b[0m 34.35   \u001b[0m |\n",
      "| \u001b[0m 19      \u001b[0m | \u001b[0m 0.667   \u001b[0m | \u001b[0m 0.9782  \u001b[0m | \u001b[0m 0.4355  \u001b[0m | \u001b[0m 0.07013 \u001b[0m | \u001b[0m 7.462   \u001b[0m | \u001b[0m 13.31   \u001b[0m | \u001b[0m 0.9601  \u001b[0m | \u001b[0m 29.33   \u001b[0m |\n",
      "| \u001b[0m 20      \u001b[0m | \u001b[0m 0.6577  \u001b[0m | \u001b[0m 0.9187  \u001b[0m | \u001b[0m 0.17    \u001b[0m | \u001b[0m 0.2603  \u001b[0m | \u001b[0m 12.54   \u001b[0m | \u001b[0m 45.82   \u001b[0m | \u001b[0m 0.3473  \u001b[0m | \u001b[0m 7.91    \u001b[0m |\n",
      "| \u001b[0m 21      \u001b[0m | \u001b[0m 0.6551  \u001b[0m | \u001b[0m 0.9321  \u001b[0m | \u001b[0m 0.2909  \u001b[0m | \u001b[0m 0.7411  \u001b[0m | \u001b[0m 8.264   \u001b[0m | \u001b[0m 37.8    \u001b[0m | \u001b[0m 0.843   \u001b[0m | \u001b[0m 37.72   \u001b[0m |\n",
      "| \u001b[0m 22      \u001b[0m | \u001b[0m 0.6672  \u001b[0m | \u001b[0m 0.6796  \u001b[0m | \u001b[0m 0.7267  \u001b[0m | \u001b[0m 0.1395  \u001b[0m | \u001b[0m 9.511   \u001b[0m | \u001b[0m 26.78   \u001b[0m | \u001b[0m 0.8784  \u001b[0m | \u001b[0m 11.92   \u001b[0m |\n",
      "| \u001b[0m 23      \u001b[0m | \u001b[0m 0.6589  \u001b[0m | \u001b[0m 0.9401  \u001b[0m | \u001b[0m 0.799   \u001b[0m | \u001b[0m 0.9716  \u001b[0m | \u001b[0m 9.942   \u001b[0m | \u001b[0m 18.2    \u001b[0m | \u001b[0m 0.2482  \u001b[0m | \u001b[0m 42.25   \u001b[0m |\n",
      "| \u001b[0m 24      \u001b[0m | \u001b[0m 0.6624  \u001b[0m | \u001b[0m 0.9826  \u001b[0m | \u001b[0m 0.6988  \u001b[0m | \u001b[0m 0.4825  \u001b[0m | \u001b[0m 9.296   \u001b[0m | \u001b[0m 43.35   \u001b[0m | \u001b[0m 0.8735  \u001b[0m | \u001b[0m 9.146   \u001b[0m |\n",
      "| \u001b[0m 25      \u001b[0m | \u001b[0m 0.6537  \u001b[0m | \u001b[0m 0.608   \u001b[0m | \u001b[0m 0.8318  \u001b[0m | \u001b[0m 0.8483  \u001b[0m | \u001b[0m 9.517   \u001b[0m | \u001b[0m 21.17   \u001b[0m | \u001b[0m 0.4365  \u001b[0m | \u001b[0m 29.28   \u001b[0m |\n",
      "| \u001b[0m 26      \u001b[0m | \u001b[0m 0.6598  \u001b[0m | \u001b[0m 0.5478  \u001b[0m | \u001b[0m 0.8369  \u001b[0m | \u001b[0m 0.5347  \u001b[0m | \u001b[0m 13.2    \u001b[0m | \u001b[0m 19.23   \u001b[0m | \u001b[0m 0.9656  \u001b[0m | \u001b[0m 38.8    \u001b[0m |\n",
      "| \u001b[0m 27      \u001b[0m | \u001b[0m 0.6664  \u001b[0m | \u001b[0m 0.6715  \u001b[0m | \u001b[0m 0.9485  \u001b[0m | \u001b[0m 0.7005  \u001b[0m | \u001b[0m 13.72   \u001b[0m | \u001b[0m 11.82   \u001b[0m | \u001b[0m 0.06509 \u001b[0m | \u001b[0m 38.42   \u001b[0m |\n",
      "| \u001b[0m 28      \u001b[0m | \u001b[0m 0.6599  \u001b[0m | \u001b[0m 0.6523  \u001b[0m | \u001b[0m 0.5168  \u001b[0m | \u001b[0m 0.1563  \u001b[0m | \u001b[0m 14.82   \u001b[0m | \u001b[0m 30.11   \u001b[0m | \u001b[0m 0.8307  \u001b[0m | \u001b[0m 8.332   \u001b[0m |\n",
      "| \u001b[0m 29      \u001b[0m | \u001b[0m 0.6566  \u001b[0m | \u001b[0m 0.7395  \u001b[0m | \u001b[0m 0.06228 \u001b[0m | \u001b[0m 0.8842  \u001b[0m | \u001b[0m 10.57   \u001b[0m | \u001b[0m 12.74   \u001b[0m | \u001b[0m 0.08573 \u001b[0m | \u001b[0m 29.25   \u001b[0m |\n",
      "| \u001b[0m 30      \u001b[0m | \u001b[0m 0.665   \u001b[0m | \u001b[0m 0.5378  \u001b[0m | \u001b[0m 0.1838  \u001b[0m | \u001b[0m 0.4364  \u001b[0m | \u001b[0m 10.98   \u001b[0m | \u001b[0m 33.33   \u001b[0m | \u001b[0m 0.6243  \u001b[0m | \u001b[0m 21.78   \u001b[0m |\n",
      "| \u001b[0m 31      \u001b[0m | \u001b[0m 0.6609  \u001b[0m | \u001b[0m 0.9589  \u001b[0m | \u001b[0m 0.1759  \u001b[0m | \u001b[0m 0.6081  \u001b[0m | \u001b[0m 12.53   \u001b[0m | \u001b[0m 25.24   \u001b[0m | \u001b[0m 0.7461  \u001b[0m | \u001b[0m 19.95   \u001b[0m |\n",
      "| \u001b[0m 32      \u001b[0m | \u001b[0m 0.6579  \u001b[0m | \u001b[0m 0.6243  \u001b[0m | \u001b[0m 0.3767  \u001b[0m | \u001b[0m 0.9951  \u001b[0m | \u001b[0m 13.99   \u001b[0m | \u001b[0m 32.73   \u001b[0m | \u001b[0m 0.9251  \u001b[0m | \u001b[0m 19.53   \u001b[0m |\n",
      "| \u001b[0m 33      \u001b[0m | \u001b[0m 0.66    \u001b[0m | \u001b[0m 0.8251  \u001b[0m | \u001b[0m 0.6201  \u001b[0m | \u001b[0m 0.1673  \u001b[0m | \u001b[0m 13.59   \u001b[0m | \u001b[0m 45.44   \u001b[0m | \u001b[0m 0.4519  \u001b[0m | \u001b[0m 13.96   \u001b[0m |\n",
      "| \u001b[0m 34      \u001b[0m | \u001b[0m 0.6654  \u001b[0m | \u001b[0m 0.5062  \u001b[0m | \u001b[0m 0.3525  \u001b[0m | \u001b[0m 0.2777  \u001b[0m | \u001b[0m 8.031   \u001b[0m | \u001b[0m 48.81   \u001b[0m | \u001b[0m 0.9706  \u001b[0m | \u001b[0m 25.17   \u001b[0m |\n",
      "| \u001b[0m 35      \u001b[0m | \u001b[0m 0.6567  \u001b[0m | \u001b[0m 0.8574  \u001b[0m | \u001b[0m 0.1794  \u001b[0m | \u001b[0m 0.2905  \u001b[0m | \u001b[0m 13.13   \u001b[0m | \u001b[0m 32.62   \u001b[0m | \u001b[0m 0.9533  \u001b[0m | \u001b[0m 40.95   \u001b[0m |\n",
      "| \u001b[0m 36      \u001b[0m | \u001b[0m 0.6626  \u001b[0m | \u001b[0m 0.6629  \u001b[0m | \u001b[0m 0.6486  \u001b[0m | \u001b[0m 0.4203  \u001b[0m | \u001b[0m 9.979   \u001b[0m | \u001b[0m 18.93   \u001b[0m | \u001b[0m 0.3717  \u001b[0m | \u001b[0m 26.1    \u001b[0m |\n",
      "| \u001b[0m 37      \u001b[0m | \u001b[0m 0.6629  \u001b[0m | \u001b[0m 0.9988  \u001b[0m | \u001b[0m 0.9766  \u001b[0m | \u001b[0m 0.7986  \u001b[0m | \u001b[0m 12.05   \u001b[0m | \u001b[0m 24.79   \u001b[0m | \u001b[0m 0.9408  \u001b[0m | \u001b[0m 20.51   \u001b[0m |\n",
      "| \u001b[0m 38      \u001b[0m | \u001b[0m 0.6656  \u001b[0m | \u001b[0m 0.6605  \u001b[0m | \u001b[0m 0.8144  \u001b[0m | \u001b[0m 0.44    \u001b[0m | \u001b[0m 9.328   \u001b[0m | \u001b[0m 43.3    \u001b[0m | \u001b[0m 0.7054  \u001b[0m | \u001b[0m 9.251   \u001b[0m |\n",
      "| \u001b[0m 39      \u001b[0m | \u001b[0m 0.6619  \u001b[0m | \u001b[0m 0.9758  \u001b[0m | \u001b[0m 0.725   \u001b[0m | \u001b[0m 0.9624  \u001b[0m | \u001b[0m 12.35   \u001b[0m | \u001b[0m 46.53   \u001b[0m | \u001b[0m 0.9656  \u001b[0m | \u001b[0m 21.64   \u001b[0m |\n",
      "| \u001b[0m 40      \u001b[0m | \u001b[0m 0.6618  \u001b[0m | \u001b[0m 0.791   \u001b[0m | \u001b[0m 0.2923  \u001b[0m | \u001b[0m 0.1701  \u001b[0m | \u001b[0m 9.291   \u001b[0m | \u001b[0m 27.12   \u001b[0m | \u001b[0m 0.864   \u001b[0m | \u001b[0m 11.68   \u001b[0m |\n",
      "| \u001b[0m 41      \u001b[0m | \u001b[0m 0.6607  \u001b[0m | \u001b[0m 0.5603  \u001b[0m | \u001b[0m 0.8074  \u001b[0m | \u001b[0m 0.3109  \u001b[0m | \u001b[0m 9.579   \u001b[0m | \u001b[0m 27.21   \u001b[0m | \u001b[0m 0.4756  \u001b[0m | \u001b[0m 12.04   \u001b[0m |\n",
      "| \u001b[0m 42      \u001b[0m | \u001b[0m 0.6576  \u001b[0m | \u001b[0m 0.6729  \u001b[0m | \u001b[0m 0.8418  \u001b[0m | \u001b[0m 0.9788  \u001b[0m | \u001b[0m 13.33   \u001b[0m | \u001b[0m 45.41   \u001b[0m | \u001b[0m 0.2327  \u001b[0m | \u001b[0m 26.28   \u001b[0m |\n",
      "| \u001b[0m 43      \u001b[0m | \u001b[0m 0.6619  \u001b[0m | \u001b[0m 0.888   \u001b[0m | \u001b[0m 0.3866  \u001b[0m | \u001b[0m 0.6711  \u001b[0m | \u001b[0m 12.91   \u001b[0m | \u001b[0m 22.94   \u001b[0m | \u001b[0m 0.06558 \u001b[0m | \u001b[0m 12.43   \u001b[0m |\n",
      "| \u001b[0m 44      \u001b[0m | \u001b[0m 0.6659  \u001b[0m | \u001b[0m 0.7673  \u001b[0m | \u001b[0m 0.2011  \u001b[0m | \u001b[0m 0.8951  \u001b[0m | \u001b[0m 10.35   \u001b[0m | \u001b[0m 48.24   \u001b[0m | \u001b[0m 0.1341  \u001b[0m | \u001b[0m 12.63   \u001b[0m |\n",
      "| \u001b[0m 45      \u001b[0m | \u001b[0m 0.6669  \u001b[0m | \u001b[0m 0.6736  \u001b[0m | \u001b[0m 0.289   \u001b[0m | \u001b[0m 0.8487  \u001b[0m | \u001b[0m 13.25   \u001b[0m | \u001b[0m 28.16   \u001b[0m | \u001b[0m 0.4307  \u001b[0m | \u001b[0m 9.801   \u001b[0m |\n",
      "| \u001b[0m 46      \u001b[0m | \u001b[0m 0.6638  \u001b[0m | \u001b[0m 0.7872  \u001b[0m | \u001b[0m 0.4705  \u001b[0m | \u001b[0m 0.3324  \u001b[0m | \u001b[0m 13.89   \u001b[0m | \u001b[0m 35.47   \u001b[0m | \u001b[0m 0.1877  \u001b[0m | \u001b[0m 23.42   \u001b[0m |\n",
      "| \u001b[0m 47      \u001b[0m | \u001b[0m 0.6645  \u001b[0m | \u001b[0m 0.8516  \u001b[0m | \u001b[0m 0.6686  \u001b[0m | \u001b[0m 0.6768  \u001b[0m | \u001b[0m 14.56   \u001b[0m | \u001b[0m 12.22   \u001b[0m | \u001b[0m 0.2075  \u001b[0m | \u001b[0m 21.69   \u001b[0m |\n",
      "| \u001b[0m 48      \u001b[0m | \u001b[0m 0.6629  \u001b[0m | \u001b[0m 0.6131  \u001b[0m | \u001b[0m 0.1572  \u001b[0m | \u001b[0m 0.6192  \u001b[0m | \u001b[0m 12.54   \u001b[0m | \u001b[0m 17.84   \u001b[0m | \u001b[0m 0.2564  \u001b[0m | \u001b[0m 31.3    \u001b[0m |\n",
      "| \u001b[0m 49      \u001b[0m | \u001b[0m 0.661   \u001b[0m | \u001b[0m 0.6801  \u001b[0m | \u001b[0m 0.4837  \u001b[0m | \u001b[0m 0.1993  \u001b[0m | \u001b[0m 9.295   \u001b[0m | \u001b[0m 43.82   \u001b[0m | \u001b[0m 0.3265  \u001b[0m | \u001b[0m 14.51   \u001b[0m |\n",
      "| \u001b[0m 50      \u001b[0m | \u001b[0m 0.6676  \u001b[0m | \u001b[0m 0.8128  \u001b[0m | \u001b[0m 0.1571  \u001b[0m | \u001b[0m 0.5564  \u001b[0m | \u001b[0m 13.76   \u001b[0m | \u001b[0m 36.17   \u001b[0m | \u001b[0m 0.2272  \u001b[0m | \u001b[0m 36.91   \u001b[0m |\n",
      "=============================================================================================================\n"
     ]
    }
   ],
   "source": [
    "class lgbm_target :\n",
    "    def __init__(self, x_train, y_train, x_test, y_test) :\n",
    "        self.x_train = x_train\n",
    "        self.y_train = y_train\n",
    "        self.x_test = x_test\n",
    "        self.y_test = y_test\n",
    "        \n",
    "    def clean_param(self, param) :\n",
    "        params = {'boosting_type':'gbdt', 'class_weight':None, 'colsample_bytree':1.0, \n",
    "                  'importance_type':'split', 'learning_rate':0.1,\n",
    "                  'min_child_samples':20, 'min_split_gain':0.0, 'n_estimators':100, 'objective':None,\n",
    "                  'random_state':0, 'reg_alpha':0.0, 'reg_lambda':0.0, 'silent':True,\n",
    "                  'subsample':1.0, 'subsample_for_bin':200000, 'subsample_freq':0}\n",
    "        params['num_leaves'] = int(param['num_leaves'])\n",
    "        params['min_child_weight'] = int(param['min_child_weight'])\n",
    "        params['max_depth'] = int(param['max_depth'])\n",
    "        params['learning_rate'] = 0.1\n",
    "        params['min_data_in_bin'] = 1\n",
    "        params['min_data'] = 1\n",
    "        \n",
    "        params['min_child_samples'] = int(param['min_child_samples'])\n",
    "        params['bagging_fraction'] = param['bagging_fraction']\n",
    "        params['lambda_l1'] = param['lambda_l1']\n",
    "        params['lambda_l2'] = param['lambda_l2']\n",
    "\n",
    "        return params\n",
    "        \n",
    "    def evaluate(self, min_child_weight, max_depth, num_leaves,\n",
    "                min_child_samples, bagging_fraction, lambda_l1, lambda_l2):\n",
    "        params = {'num_leaves':num_leaves, \n",
    "                  'min_child_weight':min_child_weight, \n",
    "                  'max_depth':max_depth,\n",
    "                 'min_child_samples':min_child_samples,\n",
    "                 'bagging_fraction' : bagging_fraction,\n",
    "                 'lambda_l1' : lambda_l1,\n",
    "                 'lambda_l2' : lambda_l2}\n",
    "        \n",
    "        params = self.clean_param(params)\n",
    "\n",
    "        lgbm_model = lgb.LGBMClassifier(**params)\n",
    "        lgbm_model.fit(self.x_train, self.y_train)\n",
    "        y_pred = lgbm_model.predict_proba(self.x_test)\n",
    "        predictions = y_pred[:,1]\n",
    "#         rmse = np.sqrt(mean_squared_error(self.y_test, predictions))\n",
    "#         return -1*rmse\n",
    "        acc = roc_auc_score(self.y_test,predictions)\n",
    "        return acc\n",
    "\n",
    "lt = lgbm_target(X_train_, y_train_, X_test_, y_test_)\n",
    "lgbmBO = BayesianOptimization(lt.evaluate, {'min_child_weight': (0.01, 1),\n",
    "                                              'max_depth': (7, 15),\n",
    "                                              'num_leaves': (5, 50),\n",
    "                                            'min_child_samples' :(10,50),\n",
    "                                            'bagging_fraction' : (0.5,1),\n",
    "                                            'lambda_l1' : (0,1),\n",
    "                                            'lambda_l2' : (0,1)\n",
    "                                           }, \n",
    "                             random_state=3)\n",
    "\n",
    "lgbmBO.maximize(init_points=30, n_iter=20)"
   ]
  },
  {
   "cell_type": "markdown",
   "metadata": {
    "papermill": {
     "duration": 0.038088,
     "end_time": "2020-12-10T13:19:39.995138",
     "exception": false,
     "start_time": "2020-12-10T13:19:39.957050",
     "status": "completed"
    },
    "tags": []
   },
   "source": [
    "ADVERSARIAL VALIDATION"
   ]
  },
  {
   "cell_type": "code",
   "execution_count": 7,
   "metadata": {
    "execution": {
     "iopub.execute_input": "2020-12-10T13:19:40.090183Z",
     "iopub.status.busy": "2020-12-10T13:19:40.088954Z",
     "iopub.status.idle": "2020-12-10T13:19:40.475302Z",
     "shell.execute_reply": "2020-12-10T13:19:40.476148Z"
    },
    "papermill": {
     "duration": 0.440823,
     "end_time": "2020-12-10T13:19:40.476351",
     "exception": false,
     "start_time": "2020-12-10T13:19:40.035528",
     "status": "completed"
    },
    "tags": []
   },
   "outputs": [
    {
     "data": {
      "text/plain": [
       "0.5633671499975256"
      ]
     },
     "execution_count": 7,
     "metadata": {},
     "output_type": "execute_result"
    }
   ],
   "source": [
    "y_label_adv = np.zeros((X_train.shape[0]+ X_test.shape[0]))\n",
    "y_label_adv[:X_train.shape[0]] = 1\n",
    "adversarial_data = pd.concat((X_train,X_test))\n",
    "model_lgb = lgb.LGBMClassifier()\n",
    "X_train_, X_test_, y_train_, y_test_ = train_test_split(adversarial_data, y_label_adv, test_size=0.33, random_state=38)\n",
    "\n",
    "model_lgb.fit(X_train_,y_train_)\n",
    "y_pred  = model_lgb.predict(X_test_)\n",
    "roc_auc_score(y_pred,y_test_)"
   ]
  },
  {
   "cell_type": "code",
   "execution_count": null,
   "metadata": {
    "papermill": {
     "duration": 0.039263,
     "end_time": "2020-12-10T13:19:40.557476",
     "exception": false,
     "start_time": "2020-12-10T13:19:40.518213",
     "status": "completed"
    },
    "tags": []
   },
   "outputs": [],
   "source": []
  },
  {
   "cell_type": "code",
   "execution_count": null,
   "metadata": {
    "papermill": {
     "duration": 0.039994,
     "end_time": "2020-12-10T13:19:40.637426",
     "exception": false,
     "start_time": "2020-12-10T13:19:40.597432",
     "status": "completed"
    },
    "tags": []
   },
   "outputs": [],
   "source": []
  },
  {
   "cell_type": "code",
   "execution_count": null,
   "metadata": {
    "papermill": {
     "duration": 0.03079,
     "end_time": "2020-12-10T13:19:40.704883",
     "exception": false,
     "start_time": "2020-12-10T13:19:40.674093",
     "status": "completed"
    },
    "tags": []
   },
   "outputs": [],
   "source": []
  },
  {
   "cell_type": "code",
   "execution_count": null,
   "metadata": {
    "papermill": {
     "duration": 0.030123,
     "end_time": "2020-12-10T13:19:40.765736",
     "exception": false,
     "start_time": "2020-12-10T13:19:40.735613",
     "status": "completed"
    },
    "tags": []
   },
   "outputs": [],
   "source": []
  },
  {
   "cell_type": "code",
   "execution_count": null,
   "metadata": {
    "papermill": {
     "duration": 0.031317,
     "end_time": "2020-12-10T13:19:40.827876",
     "exception": false,
     "start_time": "2020-12-10T13:19:40.796559",
     "status": "completed"
    },
    "tags": []
   },
   "outputs": [],
   "source": []
  },
  {
   "cell_type": "code",
   "execution_count": null,
   "metadata": {
    "papermill": {
     "duration": 0.031264,
     "end_time": "2020-12-10T13:19:40.889702",
     "exception": false,
     "start_time": "2020-12-10T13:19:40.858438",
     "status": "completed"
    },
    "tags": []
   },
   "outputs": [],
   "source": []
  },
  {
   "cell_type": "code",
   "execution_count": null,
   "metadata": {
    "papermill": {
     "duration": 0.030885,
     "end_time": "2020-12-10T13:19:40.953209",
     "exception": false,
     "start_time": "2020-12-10T13:19:40.922324",
     "status": "completed"
    },
    "tags": []
   },
   "outputs": [],
   "source": []
  }
 ],
 "metadata": {
  "kernelspec": {
   "display_name": "Python 3",
   "language": "python",
   "name": "python3"
  },
  "language_info": {
   "codemirror_mode": {
    "name": "ipython",
    "version": 3
   },
   "file_extension": ".py",
   "mimetype": "text/x-python",
   "name": "python",
   "nbconvert_exporter": "python",
   "pygments_lexer": "ipython3",
   "version": "3.7.6"
  },
  "papermill": {
   "duration": 29.686791,
   "end_time": "2020-12-10T13:19:41.095949",
   "environment_variables": {},
   "exception": null,
   "input_path": "__notebook__.ipynb",
   "output_path": "__notebook__.ipynb",
   "parameters": {},
   "start_time": "2020-12-10T13:19:11.409158",
   "version": "2.1.0"
  }
 },
 "nbformat": 4,
 "nbformat_minor": 4
}
