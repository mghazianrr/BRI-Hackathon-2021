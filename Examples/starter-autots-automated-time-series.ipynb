{
 "cells": [
  {
   "cell_type": "code",
   "execution_count": 1,
   "metadata": {
    "_cell_guid": "b1076dfc-b9ad-4769-8c92-a6c4dae69d19",
    "_kg_hide-input": true,
    "_kg_hide-output": true,
    "_uuid": "8f2839f25d086af736a60e9eeb907d3b93b6e0e5",
    "execution": {
     "iopub.execute_input": "2021-01-18T00:07:45.038279Z",
     "iopub.status.busy": "2021-01-18T00:07:45.037041Z",
     "iopub.status.idle": "2021-01-18T00:07:45.043957Z",
     "shell.execute_reply": "2021-01-18T00:07:45.042718Z"
    },
    "papermill": {
     "duration": 0.043278,
     "end_time": "2021-01-18T00:07:45.044182",
     "exception": false,
     "start_time": "2021-01-18T00:07:45.000904",
     "status": "completed"
    },
    "tags": []
   },
   "outputs": [
    {
     "name": "stdout",
     "output_type": "stream",
     "text": [
      "/kaggle/input/bri-data-hackathon-cr-optimization/sample_submission.csv\n",
      "/kaggle/input/bri-data-hackathon-cr-optimization/data_description.csv\n",
      "/kaggle/input/bri-data-hackathon-cr-optimization/train.csv\n",
      "/kaggle/input/bri-data-hackathon-cr-optimization/test.csv\n"
     ]
    }
   ],
   "source": [
    "# This Python 3 environment comes with many helpful analytics libraries installed\n",
    "# It is defined by the kaggle/python Docker image: https://github.com/kaggle/docker-python\n",
    "# For example, here's several helpful packages to load\n",
    "\n",
    "import numpy as np # linear algebra\n",
    "import pandas as pd # data processing, CSV file I/O (e.g. pd.read_csv)\n",
    "\n",
    "# Input data files are available in the read-only \"../input/\" directory\n",
    "# For example, running this (by clicking run or pressing Shift+Enter) will list all files under the input directory\n",
    "\n",
    "import os\n",
    "for dirname, _, filenames in os.walk('/kaggle/input'):\n",
    "    for filename in filenames:\n",
    "        print(os.path.join(dirname, filename))\n",
    "\n",
    "# You can write up to 20GB to the current directory (/kaggle/working/) that gets preserved as output when you create a version using \"Save & Run All\" \n",
    "# You can also write temporary files to /kaggle/temp/, but they won't be saved outside of the current session"
   ]
  },
  {
   "cell_type": "markdown",
   "metadata": {
    "papermill": {
     "duration": 0.013128,
     "end_time": "2021-01-18T00:07:45.073853",
     "exception": false,
     "start_time": "2021-01-18T00:07:45.060725",
     "status": "completed"
    },
    "tags": []
   },
   "source": [
    "## Intro\n",
    "\n",
    "In this notebook, I will present **a fast and straightforward automated time series model.**\n",
    "I will be using the AutoTS library for this notebook, but one can find another similar library to analyze! \n",
    "\n",
    "**Please do upvote if you find this notebook useful and leave any comment so I can help you ;)**\n",
    "**I will update the notebook accordingly.**\n",
    "\n",
    "To learn more about AutoTS, please refer to this website: https://pypi.org/project/AutoTS/\n",
    "\n",
    "Quoting from the website, AutoTS offer:\n",
    "> 1. Finds optimal time series forecasting model and data transformations by genetic programming optimization\n",
    "> 2. Twenty-two available model classes, with tens of thousands of possible hyperparameter configurations\n",
    "> 3. Over thirty time-series specific data transformations\n",
    "> 4. Allows automatic ensembling of best models\n",
    "> 5. Multiple cross-validation options\n",
    "\n",
    "Please keep in mind that I only use the basic option and parameters **without tuning** in this notebook. You can tune it to get a better score. You can also predict each variable then ensemble the prediction to obtain better results."
   ]
  },
  {
   "cell_type": "code",
   "execution_count": 2,
   "metadata": {
    "execution": {
     "iopub.execute_input": "2021-01-18T00:07:45.121703Z",
     "iopub.status.busy": "2021-01-18T00:07:45.120604Z",
     "iopub.status.idle": "2021-01-18T00:07:55.371207Z",
     "shell.execute_reply": "2021-01-18T00:07:55.368921Z"
    },
    "papermill": {
     "duration": 10.284253,
     "end_time": "2021-01-18T00:07:55.371383",
     "exception": false,
     "start_time": "2021-01-18T00:07:45.087130",
     "status": "completed"
    },
    "tags": []
   },
   "outputs": [
    {
     "name": "stdout",
     "output_type": "stream",
     "text": [
      "Collecting autots\r\n",
      "  Downloading AutoTS-0.2.8-py3-none-any.whl (381 kB)\r\n",
      "\u001b[K     |████████████████████████████████| 381 kB 1.3 MB/s \r\n",
      "\u001b[?25hRequirement already satisfied: scikit-learn>=0.20.* in /opt/conda/lib/python3.7/site-packages (from autots) (0.23.2)\r\n",
      "Requirement already satisfied: pandas>=0.25.* in /opt/conda/lib/python3.7/site-packages (from autots) (1.1.5)\r\n",
      "Requirement already satisfied: statsmodels>=0.10.* in /opt/conda/lib/python3.7/site-packages (from autots) (0.11.1)\r\n",
      "Requirement already satisfied: numpy>=1.14.6 in /opt/conda/lib/python3.7/site-packages (from autots) (1.18.5)\r\n",
      "Requirement already satisfied: numpy>=1.14.6 in /opt/conda/lib/python3.7/site-packages (from autots) (1.18.5)\r\n",
      "Requirement already satisfied: python-dateutil>=2.7.3 in /opt/conda/lib/python3.7/site-packages (from pandas>=0.25.*->autots) (2.8.1)\r\n",
      "Requirement already satisfied: pytz>=2017.2 in /opt/conda/lib/python3.7/site-packages (from pandas>=0.25.*->autots) (2019.3)\r\n",
      "Requirement already satisfied: six>=1.5 in /opt/conda/lib/python3.7/site-packages (from python-dateutil>=2.7.3->pandas>=0.25.*->autots) (1.14.0)\r\n",
      "Requirement already satisfied: threadpoolctl>=2.0.0 in /opt/conda/lib/python3.7/site-packages (from scikit-learn>=0.20.*->autots) (2.1.0)\r\n",
      "Requirement already satisfied: joblib>=0.11 in /opt/conda/lib/python3.7/site-packages (from scikit-learn>=0.20.*->autots) (0.14.1)\r\n",
      "Requirement already satisfied: numpy>=1.14.6 in /opt/conda/lib/python3.7/site-packages (from autots) (1.18.5)\r\n",
      "Requirement already satisfied: scipy>=0.19.1 in /opt/conda/lib/python3.7/site-packages (from scikit-learn>=0.20.*->autots) (1.4.1)\r\n",
      "Requirement already satisfied: numpy>=1.14.6 in /opt/conda/lib/python3.7/site-packages (from autots) (1.18.5)\r\n",
      "Requirement already satisfied: scipy>=0.19.1 in /opt/conda/lib/python3.7/site-packages (from scikit-learn>=0.20.*->autots) (1.4.1)\r\n",
      "Requirement already satisfied: patsy>=0.5 in /opt/conda/lib/python3.7/site-packages (from statsmodels>=0.10.*->autots) (0.5.1)\r\n",
      "Requirement already satisfied: numpy>=1.14.6 in /opt/conda/lib/python3.7/site-packages (from autots) (1.18.5)\r\n",
      "Requirement already satisfied: pandas>=0.25.* in /opt/conda/lib/python3.7/site-packages (from autots) (1.1.5)\r\n",
      "Requirement already satisfied: numpy>=1.14.6 in /opt/conda/lib/python3.7/site-packages (from autots) (1.18.5)\r\n",
      "Requirement already satisfied: six>=1.5 in /opt/conda/lib/python3.7/site-packages (from python-dateutil>=2.7.3->pandas>=0.25.*->autots) (1.14.0)\r\n",
      "Installing collected packages: autots\r\n",
      "Successfully installed autots-0.2.8\r\n",
      "\u001b[33mWARNING: You are using pip version 20.3.1; however, version 20.3.3 is available.\r\n",
      "You should consider upgrading via the '/opt/conda/bin/python3.7 -m pip install --upgrade pip' command.\u001b[0m\r\n"
     ]
    }
   ],
   "source": [
    "# Run this code to install the library\n",
    "!pip install autots"
   ]
  },
  {
   "cell_type": "markdown",
   "metadata": {
    "papermill": {
     "duration": 0.018572,
     "end_time": "2021-01-18T00:07:55.409182",
     "exception": false,
     "start_time": "2021-01-18T00:07:55.390610",
     "status": "completed"
    },
    "tags": []
   },
   "source": [
    "## Load library and train data"
   ]
  },
  {
   "cell_type": "code",
   "execution_count": 3,
   "metadata": {
    "execution": {
     "iopub.execute_input": "2021-01-18T00:07:55.453907Z",
     "iopub.status.busy": "2021-01-18T00:07:55.453243Z",
     "iopub.status.idle": "2021-01-18T00:07:55.471377Z",
     "shell.execute_reply": "2021-01-18T00:07:55.471920Z"
    },
    "papermill": {
     "duration": 0.044237,
     "end_time": "2021-01-18T00:07:55.472069",
     "exception": false,
     "start_time": "2021-01-18T00:07:55.427832",
     "status": "completed"
    },
    "tags": []
   },
   "outputs": [],
   "source": [
    "import pandas as pd\n",
    "import numpy as np\n",
    "import matplotlib.pyplot as plt\n",
    "from autots import AutoTS\n",
    "\n",
    "import warnings\n",
    "warnings.filterwarnings('ignore')"
   ]
  },
  {
   "cell_type": "code",
   "execution_count": 4,
   "metadata": {
    "_cell_guid": "79c7e3d0-c299-4dcb-8224-4455121ee9b0",
    "_uuid": "d629ff2d2480ee46fbb7e2d37f6b5fab8052498a",
    "execution": {
     "iopub.execute_input": "2021-01-18T00:07:55.510023Z",
     "iopub.status.busy": "2021-01-18T00:07:55.509299Z",
     "iopub.status.idle": "2021-01-18T00:07:55.550976Z",
     "shell.execute_reply": "2021-01-18T00:07:55.550370Z"
    },
    "papermill": {
     "duration": 0.061915,
     "end_time": "2021-01-18T00:07:55.551135",
     "exception": false,
     "start_time": "2021-01-18T00:07:55.489220",
     "status": "completed"
    },
    "tags": []
   },
   "outputs": [],
   "source": [
    "train = pd.read_csv(\"../input/bri-data-hackathon-cr-optimization/train.csv\")\n",
    "train = train[['periode', 'kas_kantor', 'kas_echannel']]\n",
    "train['kas_kantor'].iloc[0] = train['kas_kantor'].iloc[1]\n",
    "train['periode'] = pd.to_datetime(train['periode'])\n",
    "# train.set_index(['periode'], inplace=True)\n",
    "# train.head()"
   ]
  },
  {
   "cell_type": "code",
   "execution_count": 5,
   "metadata": {
    "execution": {
     "iopub.execute_input": "2021-01-18T00:07:55.598220Z",
     "iopub.status.busy": "2021-01-18T00:07:55.597163Z",
     "iopub.status.idle": "2021-01-18T00:07:55.600712Z",
     "shell.execute_reply": "2021-01-18T00:07:55.601257Z"
    },
    "papermill": {
     "duration": 0.032983,
     "end_time": "2021-01-18T00:07:55.601392",
     "exception": false,
     "start_time": "2021-01-18T00:07:55.568409",
     "status": "completed"
    },
    "tags": []
   },
   "outputs": [
    {
     "data": {
      "text/plain": [
       "periode         0\n",
       "kas_kantor      0\n",
       "kas_echannel    0\n",
       "dtype: int64"
      ]
     },
     "execution_count": 5,
     "metadata": {},
     "output_type": "execute_result"
    }
   ],
   "source": [
    "train.isna().sum()"
   ]
  },
  {
   "cell_type": "markdown",
   "metadata": {
    "papermill": {
     "duration": 0.017405,
     "end_time": "2021-01-18T00:07:55.636469",
     "exception": false,
     "start_time": "2021-01-18T00:07:55.619064",
     "status": "completed"
    },
    "tags": []
   },
   "source": [
    "## Initialize Model\n",
    "\n",
    "I will forecast both `kas_kantor` and `kas_echannel` directly without any preprocessing."
   ]
  },
  {
   "cell_type": "code",
   "execution_count": 6,
   "metadata": {
    "execution": {
     "iopub.execute_input": "2021-01-18T00:07:55.679434Z",
     "iopub.status.busy": "2021-01-18T00:07:55.675851Z",
     "iopub.status.idle": "2021-01-18T00:07:56.729455Z",
     "shell.execute_reply": "2021-01-18T00:07:56.728652Z"
    },
    "papermill": {
     "duration": 1.07541,
     "end_time": "2021-01-18T00:07:56.729580",
     "exception": false,
     "start_time": "2021-01-18T00:07:55.654170",
     "status": "completed"
    },
    "tags": []
   },
   "outputs": [],
   "source": [
    "from sklearn.preprocessing import StandardScaler\n",
    "scaler_kantor = StandardScaler()\n",
    "scaler_echannel = StandardScaler()\n",
    "train['kas_kantor'] = scaler_kantor.fit_transform(train[['kas_kantor']])\n",
    "train['kas_echannel'] = scaler_echannel.fit_transform(train[['kas_echannel']])"
   ]
  },
  {
   "cell_type": "code",
   "execution_count": 7,
   "metadata": {
    "execution": {
     "iopub.execute_input": "2021-01-18T00:07:56.771730Z",
     "iopub.status.busy": "2021-01-18T00:07:56.770960Z",
     "iopub.status.idle": "2021-01-18T00:07:56.774823Z",
     "shell.execute_reply": "2021-01-18T00:07:56.774012Z"
    },
    "papermill": {
     "duration": 0.027386,
     "end_time": "2021-01-18T00:07:56.774972",
     "exception": false,
     "start_time": "2021-01-18T00:07:56.747586",
     "status": "completed"
    },
    "tags": []
   },
   "outputs": [],
   "source": [
    "# Add time-series models here\n",
    "model_list = ['ARIMA', 'FBProphet']\n",
    "model = ['ARIMA', 'FBProphet']"
   ]
  },
  {
   "cell_type": "code",
   "execution_count": 8,
   "metadata": {
    "_kg_hide-output": true,
    "execution": {
     "iopub.execute_input": "2021-01-18T00:07:56.822470Z",
     "iopub.status.busy": "2021-01-18T00:07:56.821631Z",
     "iopub.status.idle": "2021-01-18T00:07:57.350391Z",
     "shell.execute_reply": "2021-01-18T00:07:57.349703Z"
    },
    "papermill": {
     "duration": 0.556168,
     "end_time": "2021-01-18T00:07:57.350521",
     "exception": false,
     "start_time": "2021-01-18T00:07:56.794353",
     "status": "completed"
    },
    "tags": []
   },
   "outputs": [],
   "source": [
    "mod_kantor = AutoTS(\n",
    "    forecast_length=31,\n",
    "    frequency='infer',\n",
    "    prediction_interval=0.9,\n",
    "    ensemble='all',\n",
    "    model_list=model,\n",
    "    max_generations=5,\n",
    "    num_validations=2,\n",
    "    validation_method='even',\n",
    "    n_jobs = -1\n",
    ")\n",
    "\n",
    "mod_echannel = AutoTS(\n",
    "    forecast_length=31,\n",
    "    frequency='infer',\n",
    "    prediction_interval=0.9,\n",
    "    ensemble='all',\n",
    "    model_list=model_list,\n",
    "    max_generations=5,\n",
    "    num_validations=2,\n",
    "    validation_method='even',\n",
    "    n_jobs=-1\n",
    ")"
   ]
  },
  {
   "cell_type": "code",
   "execution_count": 9,
   "metadata": {
    "_kg_hide-output": true,
    "execution": {
     "iopub.execute_input": "2021-01-18T00:07:57.400370Z",
     "iopub.status.busy": "2021-01-18T00:07:57.396732Z",
     "iopub.status.idle": "2021-01-18T00:28:48.373690Z",
     "shell.execute_reply": "2021-01-18T00:28:48.374219Z"
    },
    "papermill": {
     "duration": 1251.005016,
     "end_time": "2021-01-18T00:28:48.374407",
     "exception": false,
     "start_time": "2021-01-18T00:07:57.369391",
     "status": "completed"
    },
    "tags": []
   },
   "outputs": [
    {
     "name": "stdout",
     "output_type": "stream",
     "text": [
      "Inferred frequency is: D\n",
      "Model Number: 1 with model FBProphet in generation 0 of 5\n",
      "Template Eval Error: ValueError('operands could not be broadcast together with shapes (62,) (31,) ') in model 1: FBProphet\n",
      "Model Number: 2 with model FBProphet in generation 0 of 5\n",
      "Template Eval Error: ValueError('operands could not be broadcast together with shapes (62,) (31,) ') in model 2: FBProphet\n",
      "Model Number: 3 with model FBProphet in generation 0 of 5\n",
      "Template Eval Error: ValueError('operands could not be broadcast together with shapes (62,) (31,) ') in model 3: FBProphet\n",
      "Model Number: 4 with model ARIMA in generation 0 of 5\n",
      "Model Number: 5 with model ARIMA in generation 0 of 5\n",
      "Model Number: 6 with model ARIMA in generation 0 of 5\n",
      "Model Number: 7 with model ARIMA in generation 0 of 5\n",
      "Model Number: 8 with model FBProphet in generation 0 of 5\n",
      "Template Eval Error: ValueError('operands could not be broadcast together with shapes (62,) (31,) ') in model 8: FBProphet\n",
      "Model Number: 9 with model FBProphet in generation 0 of 5\n",
      "Template Eval Error: ValueError('operands could not be broadcast together with shapes (62,) (31,) ') in model 9: FBProphet\n",
      "Model Number: 10 with model FBProphet in generation 0 of 5\n",
      "Template Eval Error: ValueError('operands could not be broadcast together with shapes (62,) (31,) ') in model 10: FBProphet\n",
      "Model Number: 11 with model ARIMA in generation 0 of 5\n",
      "Model Number: 12 with model FBProphet in generation 0 of 5\n",
      "Template Eval Error: ValueError('operands could not be broadcast together with shapes (62,) (31,) ') in model 12: FBProphet\n",
      "Model Number: 13 with model ARIMA in generation 0 of 5\n"
     ]
    },
    {
     "name": "stderr",
     "output_type": "stream",
     "text": [
      "/opt/conda/lib/python3.7/site-packages/statsmodels/base/model.py:568: ConvergenceWarning: Maximum Likelihood optimization failed to converge. Check mle_retvals\n",
      "  \"Check mle_retvals\", ConvergenceWarning)\n",
      "/opt/conda/lib/python3.7/site-packages/statsmodels/tsa/base/tsa_model.py:162: ValueWarning: No frequency information was provided, so inferred frequency D will be used.\n",
      "  % freq, ValueWarning)\n"
     ]
    },
    {
     "name": "stdout",
     "output_type": "stream",
     "text": [
      "Model Number: 14 with model ARIMA in generation 0 of 5\n",
      "Model Number: 15 with model ARIMA in generation 0 of 5\n",
      "Model Number: 16 with model FBProphet in generation 0 of 5\n",
      "Template Eval Error: ValueError('operands could not be broadcast together with shapes (62,) (31,) ') in model 16: FBProphet\n",
      "Model Number: 17 with model ARIMA in generation 0 of 5\n",
      "Model Number: 18 with model FBProphet in generation 0 of 5\n",
      "Template Eval Error: UnboundLocalError(\"local variable 'grouping_ids' referenced before assignment\") in model 18: FBProphet\n",
      "Model Number: 19 with model FBProphet in generation 0 of 5\n",
      "Template Eval Error: ValueError('operands could not be broadcast together with shapes (62,) (31,) ') in model 19: FBProphet\n",
      "Model Number: 20 with model FBProphet in generation 0 of 5\n",
      "Template Eval Error: ValueError('operands could not be broadcast together with shapes (62,) (31,) ') in model 20: FBProphet\n",
      "Model Number: 21 with model ARIMA in generation 0 of 5\n",
      "Model Number: 22 with model ARIMA in generation 0 of 5\n",
      "Template Eval Error: UnboundLocalError(\"local variable 'grouping_ids' referenced before assignment\") in model 22: ARIMA\n",
      "Model Number: 23 with model FBProphet in generation 0 of 5\n",
      "Template Eval Error: ValueError('operands could not be broadcast together with shapes (62,) (31,) ') in model 23: FBProphet\n",
      "Model Number: 24 with model ARIMA in generation 0 of 5\n",
      "Model Number: 25 with model FBProphet in generation 0 of 5\n",
      "Template Eval Error: ValueError('operands could not be broadcast together with shapes (62,) (31,) ') in model 25: FBProphet\n",
      "Model Number: 26 with model ARIMA in generation 0 of 5\n",
      "Model Number: 27 with model FBProphet in generation 0 of 5\n",
      "Template Eval Error: ValueError('operands could not be broadcast together with shapes (62,) (31,) ') in model 27: FBProphet\n",
      "Model Number: 28 with model FBProphet in generation 0 of 5\n",
      "Template Eval Error: ValueError('operands could not be broadcast together with shapes (62,) (31,) ') in model 28: FBProphet\n",
      "Model Number: 29 with model ARIMA in generation 0 of 5\n",
      "Model Number: 30 with model ARIMA in generation 0 of 5\n",
      "Model Number: 31 with model FBProphet in generation 0 of 5\n",
      "Template Eval Error: ValueError('operands could not be broadcast together with shapes (62,) (31,) ') in model 31: FBProphet\n",
      "Model Number: 32 with model FBProphet in generation 0 of 5\n",
      "Template Eval Error: ValueError('operands could not be broadcast together with shapes (62,) (31,) ') in model 32: FBProphet\n",
      "Model Number: 33 with model FBProphet in generation 0 of 5\n",
      "Template Eval Error: ValueError('operands could not be broadcast together with shapes (62,) (31,) ') in model 33: FBProphet\n",
      "Model Number: 34 with model FBProphet in generation 0 of 5\n",
      "Template Eval Error: ValueError('operands could not be broadcast together with shapes (62,) (31,) ') in model 34: FBProphet\n",
      "Model Number: 35 with model ARIMA in generation 0 of 5\n",
      "Model Number: 36 with model ARIMA in generation 0 of 5\n",
      "Model Number: 37 with model FBProphet in generation 0 of 5\n",
      "Template Eval Error: ValueError('operands could not be broadcast together with shapes (62,) (31,) ') in model 37: FBProphet\n",
      "Model Number: 38 with model ARIMA in generation 0 of 5\n",
      "Model Number: 39 with model FBProphet in generation 0 of 5\n",
      "Template Eval Error: ValueError('operands could not be broadcast together with shapes (62,) (31,) ') in model 39: FBProphet\n",
      "Model Number: 40 with model ARIMA in generation 0 of 5\n",
      "Model Number: 41 with model FBProphet in generation 0 of 5\n",
      "Template Eval Error: ValueError('operands could not be broadcast together with shapes (62,) (31,) ') in model 41: FBProphet\n",
      "New Generation: 1 of 5\n",
      "Model Number: 42 with model ARIMA in generation 1 of 5\n",
      "Model Number: 43 with model ARIMA in generation 1 of 5\n",
      "Model Number: 44 with model ARIMA in generation 1 of 5\n",
      "Model Number: 45 with model ARIMA in generation 1 of 5\n",
      "Model Number: 46 with model FBProphet in generation 1 of 5\n",
      "Template Eval Error: ValueError('operands could not be broadcast together with shapes (62,) (31,) ') in model 46: FBProphet\n",
      "Model Number: 47 with model FBProphet in generation 1 of 5\n",
      "Template Eval Error: ValueError('operands could not be broadcast together with shapes (62,) (31,) ') in model 47: FBProphet\n",
      "Model Number: 48 with model FBProphet in generation 1 of 5\n",
      "Template Eval Error: ValueError('operands could not be broadcast together with shapes (62,) (31,) ') in model 48: FBProphet\n",
      "New Generation: 2 of 5\n",
      "Model Number: 49 with model ARIMA in generation 2 of 5\n",
      "Model Number: 50 with model ARIMA in generation 2 of 5\n",
      "Model Number: 51 with model ARIMA in generation 2 of 5\n"
     ]
    },
    {
     "name": "stderr",
     "output_type": "stream",
     "text": [
      "/opt/conda/lib/python3.7/site-packages/statsmodels/base/model.py:568: ConvergenceWarning: Maximum Likelihood optimization failed to converge. Check mle_retvals\n",
      "  \"Check mle_retvals\", ConvergenceWarning)\n"
     ]
    },
    {
     "name": "stdout",
     "output_type": "stream",
     "text": [
      "Model Number: 52 with model ARIMA in generation 2 of 5\n"
     ]
    },
    {
     "name": "stderr",
     "output_type": "stream",
     "text": [
      "/opt/conda/lib/python3.7/site-packages/statsmodels/base/model.py:568: ConvergenceWarning: Maximum Likelihood optimization failed to converge. Check mle_retvals\n",
      "  \"Check mle_retvals\", ConvergenceWarning)\n"
     ]
    },
    {
     "name": "stdout",
     "output_type": "stream",
     "text": [
      "Model Number: 53 with model FBProphet in generation 2 of 5\n",
      "Template Eval Error: ValueError('operands could not be broadcast together with shapes (62,) (31,) ') in model 53: FBProphet\n",
      "Model Number: 54 with model FBProphet in generation 2 of 5\n",
      "Template Eval Error: ValueError('operands could not be broadcast together with shapes (62,) (31,) ') in model 54: FBProphet\n",
      "Model Number: 55 with model FBProphet in generation 2 of 5\n",
      "Template Eval Error: ValueError('operands could not be broadcast together with shapes (62,) (31,) ') in model 55: FBProphet\n",
      "Model Number: 56 with model FBProphet in generation 2 of 5\n",
      "Template Eval Error: ValueError('operands could not be broadcast together with shapes (62,) (31,) ') in model 56: FBProphet\n",
      "New Generation: 3 of 5\n",
      "Model Number: 57 with model ARIMA in generation 3 of 5\n",
      "Model Number: 58 with model ARIMA in generation 3 of 5\n",
      "Model Number: 59 with model ARIMA in generation 3 of 5\n",
      "Model Number: 60 with model FBProphet in generation 3 of 5\n",
      "Template Eval Error: ValueError('operands could not be broadcast together with shapes (62,) (31,) ') in model 60: FBProphet\n",
      "Model Number: 61 with model FBProphet in generation 3 of 5\n",
      "Template Eval Error: ValueError('operands could not be broadcast together with shapes (62,) (31,) ') in model 61: FBProphet\n",
      "Model Number: 62 with model FBProphet in generation 3 of 5\n",
      "Template Eval Error: ValueError('operands could not be broadcast together with shapes (62,) (31,) ') in model 62: FBProphet\n",
      "New Generation: 4 of 5\n",
      "Model Number: 63 with model ARIMA in generation 4 of 5\n",
      "Model Number: 64 with model ARIMA in generation 4 of 5\n",
      "Model Number: 65 with model ARIMA in generation 4 of 5\n",
      "Model Number: 66 with model ARIMA in generation 4 of 5\n",
      "Model Number: 67 with model FBProphet in generation 4 of 5\n",
      "Template Eval Error: ValueError('operands could not be broadcast together with shapes (62,) (31,) ') in model 67: FBProphet\n",
      "Model Number: 68 with model FBProphet in generation 4 of 5\n",
      "Template Eval Error: ValueError('operands could not be broadcast together with shapes (62,) (31,) ') in model 68: FBProphet\n",
      "Model Number: 69 with model FBProphet in generation 4 of 5\n",
      "Template Eval Error: ValueError('operands could not be broadcast together with shapes (62,) (31,) ') in model 69: FBProphet\n",
      "Model Number: 70 with model FBProphet in generation 4 of 5\n",
      "Template Eval Error: ValueError('operands could not be broadcast together with shapes (62,) (31,) ') in model 70: FBProphet\n",
      "New Generation: 5 of 5\n",
      "Model Number: 71 with model ARIMA in generation 5 of 5\n",
      "Model Number: 72 with model ARIMA in generation 5 of 5\n",
      "Model Number: 73 with model ARIMA in generation 5 of 5\n",
      "Model Number: 74 with model ARIMA in generation 5 of 5\n",
      "Model Number: 75 with model FBProphet in generation 5 of 5\n",
      "Template Eval Error: ValueError('operands could not be broadcast together with shapes (62,) (31,) ') in model 75: FBProphet\n",
      "Model Number: 76 with model FBProphet in generation 5 of 5\n",
      "Template Eval Error: ValueError('operands could not be broadcast together with shapes (62,) (31,) ') in model 76: FBProphet\n",
      "Model Number: 77 with model FBProphet in generation 5 of 5\n",
      "Template Eval Error: ValueError('operands could not be broadcast together with shapes (62,) (31,) ') in model 77: FBProphet\n",
      "Model Number: 78 with model FBProphet in generation 5 of 5\n",
      "Template Eval Error: ValueError('operands could not be broadcast together with shapes (62,) (31,) ') in model 78: FBProphet\n",
      "Model Number: 79 with model Ensemble in generation 0 of 0\n"
     ]
    },
    {
     "name": "stderr",
     "output_type": "stream",
     "text": [
      "/opt/conda/lib/python3.7/site-packages/statsmodels/base/model.py:568: ConvergenceWarning: Maximum Likelihood optimization failed to converge. Check mle_retvals\n",
      "  \"Check mle_retvals\", ConvergenceWarning)\n"
     ]
    },
    {
     "name": "stdout",
     "output_type": "stream",
     "text": [
      "Model Number: 80 with model Ensemble in generation 0 of 0\n",
      "Model Number: 81 with model Ensemble in generation 0 of 0\n",
      "Model Number: 82 with model Ensemble in generation 0 of 0\n",
      "Model Number: 83 with model Ensemble in generation 0 of 0\n"
     ]
    },
    {
     "name": "stderr",
     "output_type": "stream",
     "text": [
      "/opt/conda/lib/python3.7/site-packages/statsmodels/base/model.py:568: ConvergenceWarning: Maximum Likelihood optimization failed to converge. Check mle_retvals\n",
      "  \"Check mle_retvals\", ConvergenceWarning)\n"
     ]
    },
    {
     "name": "stdout",
     "output_type": "stream",
     "text": [
      "Validation Round: 1\n",
      "Model Number: 1 of 13 with model Ensemble for Validation 1\n",
      "Model Number: 2 of 13 with model Ensemble for Validation 1\n",
      "Model Number: 3 of 13 with model Ensemble for Validation 1\n",
      "Model Number: 4 of 13 with model ARIMA for Validation 1\n",
      "Model Number: 5 of 13 with model ARIMA for Validation 1\n",
      "Model Number: 6 of 13 with model Ensemble for Validation 1\n"
     ]
    },
    {
     "name": "stderr",
     "output_type": "stream",
     "text": [
      "/opt/conda/lib/python3.7/site-packages/statsmodels/base/model.py:568: ConvergenceWarning: Maximum Likelihood optimization failed to converge. Check mle_retvals\n",
      "  \"Check mle_retvals\", ConvergenceWarning)\n"
     ]
    },
    {
     "name": "stdout",
     "output_type": "stream",
     "text": [
      "Model Number: 7 of 13 with model ARIMA for Validation 1\n",
      "Model Number: 8 of 13 with model ARIMA for Validation 1\n",
      "Model Number: 9 of 13 with model ARIMA for Validation 1\n",
      "Model Number: 10 of 13 with model ARIMA for Validation 1\n",
      "Model Number: 11 of 13 with model ARIMA for Validation 1\n",
      "Model Number: 12 of 13 with model ARIMA for Validation 1\n",
      "Model Number: 13 of 13 with model Ensemble for Validation 1\n"
     ]
    },
    {
     "name": "stderr",
     "output_type": "stream",
     "text": [
      "/opt/conda/lib/python3.7/site-packages/statsmodels/base/model.py:568: ConvergenceWarning: Maximum Likelihood optimization failed to converge. Check mle_retvals\n",
      "  \"Check mle_retvals\", ConvergenceWarning)\n"
     ]
    },
    {
     "name": "stdout",
     "output_type": "stream",
     "text": [
      "Validation Round: 2\n",
      "Model Number: 1 of 13 with model Ensemble for Validation 2\n"
     ]
    },
    {
     "name": "stderr",
     "output_type": "stream",
     "text": [
      "/opt/conda/lib/python3.7/site-packages/statsmodels/base/model.py:568: ConvergenceWarning: Maximum Likelihood optimization failed to converge. Check mle_retvals\n",
      "  \"Check mle_retvals\", ConvergenceWarning)\n"
     ]
    },
    {
     "name": "stdout",
     "output_type": "stream",
     "text": [
      "Model Number: 2 of 13 with model Ensemble for Validation 2\n"
     ]
    },
    {
     "name": "stderr",
     "output_type": "stream",
     "text": [
      "/opt/conda/lib/python3.7/site-packages/statsmodels/base/model.py:568: ConvergenceWarning: Maximum Likelihood optimization failed to converge. Check mle_retvals\n",
      "  \"Check mle_retvals\", ConvergenceWarning)\n"
     ]
    },
    {
     "name": "stdout",
     "output_type": "stream",
     "text": [
      "Model Number: 3 of 13 with model Ensemble for Validation 2\n",
      "Model Number: 4 of 13 with model ARIMA for Validation 2\n",
      "Model Number: 5 of 13 with model ARIMA for Validation 2\n",
      "Model Number: 6 of 13 with model Ensemble for Validation 2\n",
      "Model Number: 7 of 13 with model ARIMA for Validation 2\n",
      "Model Number: 8 of 13 with model ARIMA for Validation 2\n",
      "Model Number: 9 of 13 with model ARIMA for Validation 2\n",
      "Model Number: 10 of 13 with model ARIMA for Validation 2\n"
     ]
    },
    {
     "name": "stderr",
     "output_type": "stream",
     "text": [
      "/opt/conda/lib/python3.7/site-packages/statsmodels/base/model.py:568: ConvergenceWarning: Maximum Likelihood optimization failed to converge. Check mle_retvals\n",
      "  \"Check mle_retvals\", ConvergenceWarning)\n"
     ]
    },
    {
     "name": "stdout",
     "output_type": "stream",
     "text": [
      "Model Number: 11 of 13 with model ARIMA for Validation 2\n",
      "Model Number: 12 of 13 with model ARIMA for Validation 2\n",
      "Model Number: 13 of 13 with model Ensemble for Validation 2\n",
      "Ensembling Error: attempt to get argmin of an empty sequence\n",
      "Model Number: 1 with model Ensemble in generation 0 of 0\n"
     ]
    },
    {
     "name": "stderr",
     "output_type": "stream",
     "text": [
      "/opt/conda/lib/python3.7/site-packages/statsmodels/base/model.py:568: ConvergenceWarning: Maximum Likelihood optimization failed to converge. Check mle_retvals\n",
      "  \"Check mle_retvals\", ConvergenceWarning)\n"
     ]
    },
    {
     "name": "stdout",
     "output_type": "stream",
     "text": [
      "Inferred frequency is: D\n",
      "Model Number: 1 with model FBProphet in generation 0 of 5\n",
      "Template Eval Error: ValueError('operands could not be broadcast together with shapes (62,) (31,) ') in model 1: FBProphet\n",
      "Model Number: 2 with model FBProphet in generation 0 of 5\n",
      "Template Eval Error: UnboundLocalError(\"local variable 'grouping_ids' referenced before assignment\") in model 2: FBProphet\n",
      "Model Number: 3 with model ARIMA in generation 0 of 5\n"
     ]
    },
    {
     "name": "stderr",
     "output_type": "stream",
     "text": [
      "/opt/conda/lib/python3.7/site-packages/statsmodels/base/model.py:568: ConvergenceWarning: Maximum Likelihood optimization failed to converge. Check mle_retvals\n",
      "  \"Check mle_retvals\", ConvergenceWarning)\n"
     ]
    },
    {
     "name": "stdout",
     "output_type": "stream",
     "text": [
      "Model Number: 4 with model FBProphet in generation 0 of 5\n",
      "Template Eval Error: ValueError('operands could not be broadcast together with shapes (62,) (31,) ') in model 4: FBProphet\n",
      "Model Number: 5 with model FBProphet in generation 0 of 5\n",
      "Template Eval Error: AttributeError(\"'RangeIndex' object has no attribute 'year'\") in model 5: FBProphet\n",
      "Model Number: 6 with model ARIMA in generation 0 of 5\n",
      "Model Number: 7 with model FBProphet in generation 0 of 5\n",
      "Template Eval Error: ValueError('operands could not be broadcast together with shapes (62,) (31,) ') in model 7: FBProphet\n",
      "Model Number: 8 with model FBProphet in generation 0 of 5\n",
      "Template Eval Error: ValueError('operands could not be broadcast together with shapes (62,) (31,) ') in model 8: FBProphet\n",
      "Model Number: 9 with model ARIMA in generation 0 of 5\n",
      "Model Number: 10 with model ARIMA in generation 0 of 5\n",
      "Model Number: 11 with model ARIMA in generation 0 of 5\n",
      "Model Number: 12 with model FBProphet in generation 0 of 5\n",
      "Template Eval Error: ValueError('operands could not be broadcast together with shapes (62,) (31,) ') in model 12: FBProphet\n",
      "Model Number: 13 with model ARIMA in generation 0 of 5\n"
     ]
    },
    {
     "name": "stderr",
     "output_type": "stream",
     "text": [
      "/opt/conda/lib/python3.7/site-packages/statsmodels/base/model.py:568: ConvergenceWarning: Maximum Likelihood optimization failed to converge. Check mle_retvals\n",
      "  \"Check mle_retvals\", ConvergenceWarning)\n"
     ]
    },
    {
     "name": "stdout",
     "output_type": "stream",
     "text": [
      "Model Number: 14 with model ARIMA in generation 0 of 5\n",
      "Model Number: 15 with model ARIMA in generation 0 of 5\n",
      "Model Number: 16 with model FBProphet in generation 0 of 5\n",
      "Template Eval Error: ValueError('operands could not be broadcast together with shapes (62,) (31,) ') in model 16: FBProphet\n",
      "Model Number: 17 with model ARIMA in generation 0 of 5\n"
     ]
    },
    {
     "name": "stderr",
     "output_type": "stream",
     "text": [
      "/opt/conda/lib/python3.7/site-packages/statsmodels/tsa/base/tsa_model.py:162: ValueWarning: No frequency information was provided, so inferred frequency D will be used.\n",
      "  % freq, ValueWarning)\n"
     ]
    },
    {
     "name": "stdout",
     "output_type": "stream",
     "text": [
      "Model Number: 18 with model ARIMA in generation 0 of 5\n",
      "Model Number: 19 with model FBProphet in generation 0 of 5\n",
      "Template Eval Error: ValueError('operands could not be broadcast together with shapes (62,) (31,) ') in model 19: FBProphet\n",
      "Model Number: 20 with model FBProphet in generation 0 of 5\n",
      "Template Eval Error: ValueError('operands could not be broadcast together with shapes (62,) (31,) ') in model 20: FBProphet\n",
      "Model Number: 21 with model ARIMA in generation 0 of 5\n"
     ]
    },
    {
     "name": "stderr",
     "output_type": "stream",
     "text": [
      "/opt/conda/lib/python3.7/site-packages/statsmodels/base/model.py:568: ConvergenceWarning: Maximum Likelihood optimization failed to converge. Check mle_retvals\n",
      "  \"Check mle_retvals\", ConvergenceWarning)\n"
     ]
    },
    {
     "name": "stdout",
     "output_type": "stream",
     "text": [
      "Model Number: 22 with model FBProphet in generation 0 of 5\n",
      "Template Eval Error: ValueError('operands could not be broadcast together with shapes (62,) (31,) ') in model 22: FBProphet\n",
      "Model Number: 23 with model ARIMA in generation 0 of 5\n",
      "Model Number: 24 with model FBProphet in generation 0 of 5\n",
      "Template Eval Error: ValueError('operands could not be broadcast together with shapes (62,) (31,) ') in model 24: FBProphet\n",
      "Model Number: 25 with model ARIMA in generation 0 of 5\n",
      "Model Number: 26 with model FBProphet in generation 0 of 5\n",
      "Template Eval Error: ValueError('operands could not be broadcast together with shapes (62,) (31,) ') in model 26: FBProphet\n",
      "Model Number: 27 with model FBProphet in generation 0 of 5\n",
      "Template Eval Error: ValueError('operands could not be broadcast together with shapes (62,) (31,) ') in model 27: FBProphet\n",
      "Model Number: 28 with model ARIMA in generation 0 of 5\n",
      "Model Number: 29 with model FBProphet in generation 0 of 5\n",
      "Template Eval Error: ValueError('operands could not be broadcast together with shapes (62,) (31,) ') in model 29: FBProphet\n",
      "Model Number: 30 with model ARIMA in generation 0 of 5\n",
      "Model Number: 31 with model ARIMA in generation 0 of 5\n",
      "Template Eval Error: UnboundLocalError(\"local variable 'grouping_ids' referenced before assignment\") in model 31: ARIMA\n",
      "Model Number: 32 with model FBProphet in generation 0 of 5\n",
      "Template Eval Error: ValueError('operands could not be broadcast together with shapes (62,) (31,) ') in model 32: FBProphet\n",
      "Model Number: 33 with model FBProphet in generation 0 of 5\n",
      "Template Eval Error: UnboundLocalError(\"local variable 'grouping_ids' referenced before assignment\") in model 33: FBProphet\n",
      "Model Number: 34 with model ARIMA in generation 0 of 5\n"
     ]
    },
    {
     "name": "stderr",
     "output_type": "stream",
     "text": [
      "/opt/conda/lib/python3.7/site-packages/statsmodels/tsa/base/tsa_model.py:162: ValueWarning: No frequency information was provided, so inferred frequency D will be used.\n",
      "  % freq, ValueWarning)\n"
     ]
    },
    {
     "name": "stdout",
     "output_type": "stream",
     "text": [
      "Model Number: 35 with model FBProphet in generation 0 of 5\n",
      "Template Eval Error: UnboundLocalError(\"local variable 'grouping_ids' referenced before assignment\") in model 35: FBProphet\n",
      "Model Number: 36 with model FBProphet in generation 0 of 5\n",
      "Template Eval Error: ValueError('operands could not be broadcast together with shapes (62,) (31,) ') in model 36: FBProphet\n",
      "Model Number: 37 with model ARIMA in generation 0 of 5\n",
      "Model Number: 38 with model ARIMA in generation 0 of 5\n",
      "Model Number: 39 with model FBProphet in generation 0 of 5\n",
      "Template Eval Error: ValueError('operands could not be broadcast together with shapes (62,) (31,) ') in model 39: FBProphet\n",
      "Model Number: 40 with model ARIMA in generation 0 of 5\n",
      "Model Number: 41 with model FBProphet in generation 0 of 5\n",
      "Template Eval Error: ValueError('operands could not be broadcast together with shapes (62,) (31,) ') in model 41: FBProphet\n",
      "New Generation: 1 of 5\n",
      "Model Number: 42 with model ARIMA in generation 1 of 5\n",
      "Model Number: 43 with model ARIMA in generation 1 of 5\n",
      "Model Number: 44 with model ARIMA in generation 1 of 5\n",
      "Model Number: 45 with model ARIMA in generation 1 of 5\n",
      "Model Number: 46 with model FBProphet in generation 1 of 5\n",
      "Template Eval Error: ValueError('operands could not be broadcast together with shapes (62,) (31,) ') in model 46: FBProphet\n",
      "Model Number: 47 with model FBProphet in generation 1 of 5\n",
      "Template Eval Error: ValueError('operands could not be broadcast together with shapes (62,) (31,) ') in model 47: FBProphet\n",
      "Model Number: 48 with model FBProphet in generation 1 of 5\n",
      "Template Eval Error: ValueError('operands could not be broadcast together with shapes (62,) (31,) ') in model 48: FBProphet\n",
      "Model Number: 49 with model FBProphet in generation 1 of 5\n",
      "Template Eval Error: UnboundLocalError(\"local variable 'grouping_ids' referenced before assignment\") in model 49: FBProphet\n",
      "New Generation: 2 of 5\n",
      "Model Number: 50 with model ARIMA in generation 2 of 5\n",
      "Model Number: 51 with model ARIMA in generation 2 of 5\n",
      "Model Number: 52 with model ARIMA in generation 2 of 5\n",
      "Model Number: 53 with model ARIMA in generation 2 of 5\n",
      "Model Number: 54 with model FBProphet in generation 2 of 5\n",
      "Template Eval Error: ValueError('operands could not be broadcast together with shapes (62,) (31,) ') in model 54: FBProphet\n",
      "Model Number: 55 with model FBProphet in generation 2 of 5\n",
      "Template Eval Error: ValueError('operands could not be broadcast together with shapes (62,) (31,) ') in model 55: FBProphet\n",
      "Model Number: 56 with model FBProphet in generation 2 of 5\n",
      "Template Eval Error: ValueError('operands could not be broadcast together with shapes (62,) (31,) ') in model 56: FBProphet\n",
      "Model Number: 57 with model FBProphet in generation 2 of 5\n",
      "Template Eval Error: ValueError('operands could not be broadcast together with shapes (62,) (31,) ') in model 57: FBProphet\n",
      "New Generation: 3 of 5\n",
      "Model Number: 58 with model ARIMA in generation 3 of 5\n",
      "Model Number: 59 with model ARIMA in generation 3 of 5\n",
      "Model Number: 60 with model ARIMA in generation 3 of 5\n",
      "Model Number: 61 with model ARIMA in generation 3 of 5\n",
      "Model Number: 62 with model FBProphet in generation 3 of 5\n",
      "Template Eval Error: ValueError('operands could not be broadcast together with shapes (62,) (31,) ') in model 62: FBProphet\n",
      "Model Number: 63 with model FBProphet in generation 3 of 5\n",
      "Template Eval Error: ValueError('operands could not be broadcast together with shapes (62,) (31,) ') in model 63: FBProphet\n",
      "Model Number: 64 with model FBProphet in generation 3 of 5\n",
      "Template Eval Error: ValueError('operands could not be broadcast together with shapes (62,) (31,) ') in model 64: FBProphet\n",
      "Model Number: 65 with model FBProphet in generation 3 of 5\n",
      "Template Eval Error: UnboundLocalError(\"local variable 'grouping_ids' referenced before assignment\") in model 65: FBProphet\n",
      "New Generation: 4 of 5\n",
      "Model Number: 66 with model ARIMA in generation 4 of 5\n"
     ]
    },
    {
     "name": "stderr",
     "output_type": "stream",
     "text": [
      "/opt/conda/lib/python3.7/site-packages/statsmodels/base/model.py:568: ConvergenceWarning: Maximum Likelihood optimization failed to converge. Check mle_retvals\n",
      "  \"Check mle_retvals\", ConvergenceWarning)\n"
     ]
    },
    {
     "name": "stdout",
     "output_type": "stream",
     "text": [
      "Model Number: 67 with model ARIMA in generation 4 of 5\n",
      "Model Number: 68 with model ARIMA in generation 4 of 5\n"
     ]
    },
    {
     "name": "stderr",
     "output_type": "stream",
     "text": [
      "/opt/conda/lib/python3.7/site-packages/statsmodels/base/model.py:568: ConvergenceWarning: Maximum Likelihood optimization failed to converge. Check mle_retvals\n",
      "  \"Check mle_retvals\", ConvergenceWarning)\n"
     ]
    },
    {
     "name": "stdout",
     "output_type": "stream",
     "text": [
      "Model Number: 69 with model ARIMA in generation 4 of 5\n",
      "Model Number: 70 with model FBProphet in generation 4 of 5\n",
      "Template Eval Error: ValueError('operands could not be broadcast together with shapes (62,) (31,) ') in model 70: FBProphet\n",
      "Model Number: 71 with model FBProphet in generation 4 of 5\n",
      "Template Eval Error: ValueError('operands could not be broadcast together with shapes (62,) (31,) ') in model 71: FBProphet\n",
      "Model Number: 72 with model FBProphet in generation 4 of 5\n",
      "Template Eval Error: ValueError('operands could not be broadcast together with shapes (62,) (31,) ') in model 72: FBProphet\n",
      "Model Number: 73 with model FBProphet in generation 4 of 5\n",
      "Template Eval Error: ValueError('operands could not be broadcast together with shapes (62,) (31,) ') in model 73: FBProphet\n",
      "New Generation: 5 of 5\n",
      "Model Number: 74 with model ARIMA in generation 5 of 5\n",
      "Model Number: 75 with model ARIMA in generation 5 of 5\n",
      "Model Number: 76 with model ARIMA in generation 5 of 5\n",
      "Model Number: 77 with model ARIMA in generation 5 of 5\n",
      "Model Number: 78 with model FBProphet in generation 5 of 5\n",
      "Template Eval Error: ValueError('operands could not be broadcast together with shapes (62,) (31,) ') in model 78: FBProphet\n",
      "Model Number: 79 with model FBProphet in generation 5 of 5\n",
      "Template Eval Error: ValueError('operands could not be broadcast together with shapes (62,) (31,) ') in model 79: FBProphet\n",
      "Model Number: 80 with model FBProphet in generation 5 of 5\n",
      "Template Eval Error: ValueError('operands could not be broadcast together with shapes (62,) (31,) ') in model 80: FBProphet\n",
      "Model Number: 81 with model FBProphet in generation 5 of 5\n",
      "Template Eval Error: ValueError('operands could not be broadcast together with shapes (62,) (31,) ') in model 81: FBProphet\n",
      "Model Number: 82 with model Ensemble in generation 0 of 0\n",
      "Model Number: 83 with model Ensemble in generation 0 of 0\n"
     ]
    },
    {
     "name": "stderr",
     "output_type": "stream",
     "text": [
      "/opt/conda/lib/python3.7/site-packages/statsmodels/base/model.py:568: ConvergenceWarning: Maximum Likelihood optimization failed to converge. Check mle_retvals\n",
      "  \"Check mle_retvals\", ConvergenceWarning)\n"
     ]
    },
    {
     "name": "stdout",
     "output_type": "stream",
     "text": [
      "Model Number: 84 with model Ensemble in generation 0 of 0\n",
      "Model Number: 85 with model Ensemble in generation 0 of 0\n",
      "Model Number: 86 with model Ensemble in generation 0 of 0\n",
      "Validation Round: 1\n",
      "Model Number: 1 of 13 with model Ensemble for Validation 1\n"
     ]
    },
    {
     "name": "stderr",
     "output_type": "stream",
     "text": [
      "/opt/conda/lib/python3.7/site-packages/statsmodels/base/model.py:568: ConvergenceWarning: Maximum Likelihood optimization failed to converge. Check mle_retvals\n",
      "  \"Check mle_retvals\", ConvergenceWarning)\n"
     ]
    },
    {
     "name": "stdout",
     "output_type": "stream",
     "text": [
      "Model Number: 2 of 13 with model Ensemble for Validation 1\n"
     ]
    },
    {
     "name": "stderr",
     "output_type": "stream",
     "text": [
      "/opt/conda/lib/python3.7/site-packages/statsmodels/base/model.py:568: ConvergenceWarning: Maximum Likelihood optimization failed to converge. Check mle_retvals\n",
      "  \"Check mle_retvals\", ConvergenceWarning)\n"
     ]
    },
    {
     "name": "stdout",
     "output_type": "stream",
     "text": [
      "Model Number: 3 of 13 with model Ensemble for Validation 1\n",
      "Model Number: 4 of 13 with model ARIMA for Validation 1\n",
      "Model Number: 5 of 13 with model ARIMA for Validation 1\n",
      "Model Number: 6 of 13 with model ARIMA for Validation 1\n",
      "Model Number: 7 of 13 with model ARIMA for Validation 1\n"
     ]
    },
    {
     "name": "stderr",
     "output_type": "stream",
     "text": [
      "/opt/conda/lib/python3.7/site-packages/statsmodels/base/model.py:568: ConvergenceWarning: Maximum Likelihood optimization failed to converge. Check mle_retvals\n",
      "  \"Check mle_retvals\", ConvergenceWarning)\n"
     ]
    },
    {
     "name": "stdout",
     "output_type": "stream",
     "text": [
      "Model Number: 8 of 13 with model ARIMA for Validation 1\n",
      "Model Number: 9 of 13 with model ARIMA for Validation 1\n",
      "Model Number: 10 of 13 with model Ensemble for Validation 1\n",
      "Model Number: 11 of 13 with model ARIMA for Validation 1\n",
      "Model Number: 12 of 13 with model ARIMA for Validation 1\n"
     ]
    },
    {
     "name": "stderr",
     "output_type": "stream",
     "text": [
      "/opt/conda/lib/python3.7/site-packages/statsmodels/base/model.py:568: ConvergenceWarning: Maximum Likelihood optimization failed to converge. Check mle_retvals\n",
      "  \"Check mle_retvals\", ConvergenceWarning)\n"
     ]
    },
    {
     "name": "stdout",
     "output_type": "stream",
     "text": [
      "Model Number: 13 of 13 with model Ensemble for Validation 1\n"
     ]
    },
    {
     "name": "stderr",
     "output_type": "stream",
     "text": [
      "/opt/conda/lib/python3.7/site-packages/statsmodels/base/model.py:568: ConvergenceWarning: Maximum Likelihood optimization failed to converge. Check mle_retvals\n",
      "  \"Check mle_retvals\", ConvergenceWarning)\n"
     ]
    },
    {
     "name": "stdout",
     "output_type": "stream",
     "text": [
      "Validation Round: 2\n",
      "Model Number: 1 of 13 with model Ensemble for Validation 2\n",
      "Model Number: 2 of 13 with model Ensemble for Validation 2\n",
      "Model Number: 3 of 13 with model Ensemble for Validation 2\n",
      "Model Number: 4 of 13 with model ARIMA for Validation 2\n",
      "Model Number: 5 of 13 with model ARIMA for Validation 2\n",
      "Model Number: 6 of 13 with model ARIMA for Validation 2\n",
      "Model Number: 7 of 13 with model ARIMA for Validation 2\n",
      "Model Number: 8 of 13 with model ARIMA for Validation 2\n",
      "Model Number: 9 of 13 with model ARIMA for Validation 2\n",
      "Model Number: 10 of 13 with model Ensemble for Validation 2\n",
      "Model Number: 11 of 13 with model ARIMA for Validation 2\n",
      "Model Number: 12 of 13 with model ARIMA for Validation 2\n"
     ]
    },
    {
     "name": "stderr",
     "output_type": "stream",
     "text": [
      "/opt/conda/lib/python3.7/site-packages/statsmodels/base/model.py:568: ConvergenceWarning: Maximum Likelihood optimization failed to converge. Check mle_retvals\n",
      "  \"Check mle_retvals\", ConvergenceWarning)\n"
     ]
    },
    {
     "name": "stdout",
     "output_type": "stream",
     "text": [
      "Model Number: 13 of 13 with model Ensemble for Validation 2\n"
     ]
    },
    {
     "name": "stderr",
     "output_type": "stream",
     "text": [
      "/opt/conda/lib/python3.7/site-packages/statsmodels/base/model.py:568: ConvergenceWarning: Maximum Likelihood optimization failed to converge. Check mle_retvals\n",
      "  \"Check mle_retvals\", ConvergenceWarning)\n"
     ]
    },
    {
     "name": "stdout",
     "output_type": "stream",
     "text": [
      "Ensembling Error: attempt to get argmin of an empty sequence\n",
      "Model Number: 1 with model Ensemble in generation 0 of 0\n"
     ]
    }
   ],
   "source": [
    "# Output is hidden\n",
    "mod_kantor = mod_kantor.fit(train,\n",
    "                            date_col='periode', \n",
    "                            value_col='kas_kantor', \n",
    "                            id_col=None)\n",
    "\n",
    "mod_echannel = mod_echannel.fit(train,\n",
    "                                date_col='periode', \n",
    "                                value_col='kas_echannel', \n",
    "                                id_col=None)"
   ]
  },
  {
   "cell_type": "markdown",
   "metadata": {
    "papermill": {
     "duration": 0.099124,
     "end_time": "2021-01-18T00:28:48.569724",
     "exception": false,
     "start_time": "2021-01-18T00:28:48.470600",
     "status": "completed"
    },
    "tags": []
   },
   "source": [
    "### Print the best model and make prediction"
   ]
  },
  {
   "cell_type": "code",
   "execution_count": 10,
   "metadata": {
    "execution": {
     "iopub.execute_input": "2021-01-18T00:28:48.770428Z",
     "iopub.status.busy": "2021-01-18T00:28:48.769634Z",
     "iopub.status.idle": "2021-01-18T00:28:48.773833Z",
     "shell.execute_reply": "2021-01-18T00:28:48.774558Z"
    },
    "papermill": {
     "duration": 0.107349,
     "end_time": "2021-01-18T00:28:48.774807",
     "exception": false,
     "start_time": "2021-01-18T00:28:48.667458",
     "status": "completed"
    },
    "tags": []
   },
   "outputs": [
    {
     "name": "stdout",
     "output_type": "stream",
     "text": [
      "Initiated AutoTS object with best model: \n",
      "Ensemble\n",
      "{}\n",
      "{\"model_name\": \"Horizontal\", \"model_count\": 1, \"model_metric\": \"MAE\", \"models\": {\"569aa7223b0e26e602732afaea7a6adb\": {\"Model\": \"Ensemble\", \"ModelParameters\": \"{\\\"model_name\\\": \\\"BestN\\\", \\\"model_count\\\": 3, \\\"model_metric\\\": \\\"best_score\\\", \\\"models\\\": {\\\"5d2317d128503440f491b09b65195395\\\": {\\\"Model\\\": \\\"ARIMA\\\", \\\"ModelParameters\\\": \\\"{\\\\\\\"p\\\\\\\": 12, \\\\\\\"d\\\\\\\": 1, \\\\\\\"q\\\\\\\": 1, \\\\\\\"regression_type\\\\\\\": null}\\\", \\\"TransformationParameters\\\": \\\"{\\\\\\\"outlier_method\\\\\\\": null, \\\\\\\"outlier_threshold\\\\\\\": null, \\\\\\\"outlier_position\\\\\\\": null, \\\\\\\"fillna\\\\\\\": \\\\\\\"ffill\\\\\\\", \\\\\\\"transformation\\\\\\\": \\\\\\\"PowerTransformer\\\\\\\", \\\\\\\"second_transformation\\\\\\\": \\\\\\\"PowerTransformer\\\\\\\", \\\\\\\"transformation_param\\\\\\\": null, \\\\\\\"detrend\\\\\\\": \\\\\\\"RANSAC\\\\\\\", \\\\\\\"third_transformation\\\\\\\": null, \\\\\\\"transformation_param2\\\\\\\": null, \\\\\\\"fourth_transformation\\\\\\\": null, \\\\\\\"discretization\\\\\\\": \\\\\\\"lower\\\\\\\", \\\\\\\"n_bins\\\\\\\": 10, \\\\\\\"grouping\\\\\\\": null, \\\\\\\"reconciliation\\\\\\\": null, \\\\\\\"coerce_integer\\\\\\\": false, \\\\\\\"context_slicer\\\\\\\": null}\\\"}, \\\"d34cf04bfa099b646ae557b8a82f93de\\\": {\\\"Model\\\": \\\"ARIMA\\\", \\\"ModelParameters\\\": \\\"{\\\\\\\"p\\\\\\\": 12, \\\\\\\"d\\\\\\\": 1, \\\\\\\"q\\\\\\\": 0, \\\\\\\"regression_type\\\\\\\": null}\\\", \\\"TransformationParameters\\\": \\\"{\\\\\\\"outlier_method\\\\\\\": null, \\\\\\\"outlier_threshold\\\\\\\": null, \\\\\\\"outlier_position\\\\\\\": null, \\\\\\\"fillna\\\\\\\": \\\\\\\"ffill\\\\\\\", \\\\\\\"transformation\\\\\\\": \\\\\\\"PowerTransformer\\\\\\\", \\\\\\\"second_transformation\\\\\\\": \\\\\\\"PowerTransformer\\\\\\\", \\\\\\\"transformation_param\\\\\\\": null, \\\\\\\"detrend\\\\\\\": \\\\\\\"RANSAC\\\\\\\", \\\\\\\"third_transformation\\\\\\\": null, \\\\\\\"transformation_param2\\\\\\\": null, \\\\\\\"fourth_transformation\\\\\\\": null, \\\\\\\"discretization\\\\\\\": \\\\\\\"lower\\\\\\\", \\\\\\\"n_bins\\\\\\\": 10, \\\\\\\"grouping\\\\\\\": null, \\\\\\\"reconciliation\\\\\\\": null, \\\\\\\"coerce_integer\\\\\\\": false, \\\\\\\"context_slicer\\\\\\\": null}\\\"}, \\\"27b76de6c43b8fbbccdb2009bbb784b8\\\": {\\\"Model\\\": \\\"ARIMA\\\", \\\"ModelParameters\\\": \\\"{\\\\\\\"p\\\\\\\": 12, \\\\\\\"d\\\\\\\": 1, \\\\\\\"q\\\\\\\": 2, \\\\\\\"regression_type\\\\\\\": null}\\\", \\\"TransformationParameters\\\": \\\"{\\\\\\\"outlier_method\\\\\\\": null, \\\\\\\"outlier_threshold\\\\\\\": null, \\\\\\\"outlier_position\\\\\\\": null, \\\\\\\"fillna\\\\\\\": \\\\\\\"ffill\\\\\\\", \\\\\\\"transformation\\\\\\\": \\\\\\\"PowerTransformer\\\\\\\", \\\\\\\"second_transformation\\\\\\\": \\\\\\\"PowerTransformer\\\\\\\", \\\\\\\"transformation_param\\\\\\\": null, \\\\\\\"detrend\\\\\\\": \\\\\\\"RANSAC\\\\\\\", \\\\\\\"third_transformation\\\\\\\": null, \\\\\\\"transformation_param2\\\\\\\": null, \\\\\\\"fourth_transformation\\\\\\\": null, \\\\\\\"discretization\\\\\\\": \\\\\\\"lower\\\\\\\", \\\\\\\"n_bins\\\\\\\": 10, \\\\\\\"grouping\\\\\\\": null, \\\\\\\"reconciliation\\\\\\\": null, \\\\\\\"coerce_integer\\\\\\\": false, \\\\\\\"context_slicer\\\\\\\": null}\\\"}}}\", \"TransformationParameters\": \"{}\"}}, \"series\": {\"kas_kantor\": \"569aa7223b0e26e602732afaea7a6adb\"}}\n"
     ]
    }
   ],
   "source": [
    "print(mod_kantor)"
   ]
  },
  {
   "cell_type": "code",
   "execution_count": 11,
   "metadata": {
    "execution": {
     "iopub.execute_input": "2021-01-18T00:28:48.978278Z",
     "iopub.status.busy": "2021-01-18T00:28:48.977516Z",
     "iopub.status.idle": "2021-01-18T00:28:48.984090Z",
     "shell.execute_reply": "2021-01-18T00:28:48.985006Z"
    },
    "papermill": {
     "duration": 0.10909,
     "end_time": "2021-01-18T00:28:48.985237",
     "exception": false,
     "start_time": "2021-01-18T00:28:48.876147",
     "status": "completed"
    },
    "tags": []
   },
   "outputs": [
    {
     "name": "stdout",
     "output_type": "stream",
     "text": [
      "Initiated AutoTS object with best model: \n",
      "Ensemble\n",
      "{}\n",
      "{\"model_name\": \"Horizontal\", \"model_count\": 1, \"model_metric\": \"MAE\", \"models\": {\"d95c94c5fdd6378bc455a11a40418926\": {\"Model\": \"ARIMA\", \"ModelParameters\": \"{\\\"p\\\": 2, \\\"d\\\": 1, \\\"q\\\": 0, \\\"regression_type\\\": null}\", \"TransformationParameters\": \"{\\\"outlier_method\\\": null, \\\"outlier_threshold\\\": null, \\\"outlier_position\\\": null, \\\"fillna\\\": \\\"ffill\\\", \\\"transformation\\\": \\\"QuantileTransformer\\\", \\\"second_transformation\\\": \\\"FixedRollingMean\\\", \\\"transformation_param\\\": \\\"100thN\\\", \\\"detrend\\\": \\\"Gamma\\\", \\\"third_transformation\\\": \\\"FixedRollingMean\\\", \\\"transformation_param2\\\": \\\"14\\\", \\\"fourth_transformation\\\": \\\"PowerTransformer\\\", \\\"discretization\\\": null, \\\"n_bins\\\": null, \\\"grouping\\\": \\\"dbscan\\\", \\\"reconciliation\\\": \\\"mean\\\", \\\"coerce_integer\\\": false, \\\"context_slicer\\\": null}\"}}, \"series\": {\"kas_echannel\": \"d95c94c5fdd6378bc455a11a40418926\"}}\n"
     ]
    }
   ],
   "source": [
    "print(mod_echannel)"
   ]
  },
  {
   "cell_type": "code",
   "execution_count": 12,
   "metadata": {
    "execution": {
     "iopub.execute_input": "2021-01-18T00:28:49.234124Z",
     "iopub.status.busy": "2021-01-18T00:28:49.226970Z",
     "iopub.status.idle": "2021-01-18T00:29:11.890704Z",
     "shell.execute_reply": "2021-01-18T00:29:11.891300Z"
    },
    "papermill": {
     "duration": 22.806182,
     "end_time": "2021-01-18T00:29:11.891479",
     "exception": false,
     "start_time": "2021-01-18T00:28:49.085297",
     "status": "completed"
    },
    "tags": []
   },
   "outputs": [
    {
     "data": {
      "image/png": "[encoded data removed]",
      "text/plain": [
       "<Figure size 432x288 with 1 Axes>"
      ]
     },
     "metadata": {
      "needs_background": "light"
     },
     "output_type": "display_data"
    }
   ],
   "source": [
    "prediction_kantor = mod_kantor.predict()\n",
    "forecast_kantor = prediction_kantor.forecast\n",
    "plt.plot(forecast_kantor);"
   ]
  },
  {
   "cell_type": "code",
   "execution_count": 13,
   "metadata": {
    "execution": {
     "iopub.execute_input": "2021-01-18T00:29:12.123509Z",
     "iopub.status.busy": "2021-01-18T00:29:12.122693Z",
     "iopub.status.idle": "2021-01-18T00:29:12.669381Z",
     "shell.execute_reply": "2021-01-18T00:29:12.668482Z"
    },
    "papermill": {
     "duration": 0.679045,
     "end_time": "2021-01-18T00:29:12.669524",
     "exception": false,
     "start_time": "2021-01-18T00:29:11.990479",
     "status": "completed"
    },
    "tags": []
   },
   "outputs": [
    {
     "data": {
      "image/png": "[encoded data removed]",
      "text/plain": [
       "<Figure size 432x288 with 1 Axes>"
      ]
     },
     "metadata": {
      "needs_background": "light"
     },
     "output_type": "display_data"
    }
   ],
   "source": [
    "prediction_echannel = mod_echannel.predict()\n",
    "forecast_echannel = prediction_echannel.forecast\n",
    "plt.plot(forecast_echannel);"
   ]
  },
  {
   "cell_type": "code",
   "execution_count": 14,
   "metadata": {
    "execution": {
     "iopub.execute_input": "2021-01-18T00:29:12.880004Z",
     "iopub.status.busy": "2021-01-18T00:29:12.879222Z",
     "iopub.status.idle": "2021-01-18T00:29:13.028585Z",
     "shell.execute_reply": "2021-01-18T00:29:13.028015Z"
    },
    "papermill": {
     "duration": 0.260533,
     "end_time": "2021-01-18T00:29:13.028717",
     "exception": false,
     "start_time": "2021-01-18T00:29:12.768184",
     "status": "completed"
    },
    "tags": []
   },
   "outputs": [
    {
     "data": {
      "image/png": "[encoded data removed]",
      "text/plain": [
       "<Figure size 432x288 with 1 Axes>"
      ]
     },
     "metadata": {
      "needs_background": "light"
     },
     "output_type": "display_data"
    }
   ],
   "source": [
    "forecast_kantor = scaler_kantor.inverse_transform(forecast_kantor)\n",
    "plt.plot(forecast_kantor);"
   ]
  },
  {
   "cell_type": "code",
   "execution_count": 15,
   "metadata": {
    "execution": {
     "iopub.execute_input": "2021-01-18T00:29:13.237737Z",
     "iopub.status.busy": "2021-01-18T00:29:13.236994Z",
     "iopub.status.idle": "2021-01-18T00:29:13.387825Z",
     "shell.execute_reply": "2021-01-18T00:29:13.388451Z"
    },
    "papermill": {
     "duration": 0.259073,
     "end_time": "2021-01-18T00:29:13.388626",
     "exception": false,
     "start_time": "2021-01-18T00:29:13.129553",
     "status": "completed"
    },
    "tags": []
   },
   "outputs": [
    {
     "data": {
      "image/png": "[encoded data removed]",
      "text/plain": [
       "<Figure size 432x288 with 1 Axes>"
      ]
     },
     "metadata": {
      "needs_background": "light"
     },
     "output_type": "display_data"
    }
   ],
   "source": [
    "forecast_echannel = scaler_echannel.inverse_transform(forecast_echannel)\n",
    "plt.plot(forecast_echannel);"
   ]
  }
 ],
 "metadata": {
  "kernelspec": {
   "display_name": "Python 3",
   "language": "python",
   "name": "python3"
  },
  "language_info": {
   "codemirror_mode": {
    "name": "ipython",
    "version": 3
   },
   "file_extension": ".py",
   "mimetype": "text/x-python",
   "name": "python",
   "nbconvert_exporter": "python",
   "pygments_lexer": "ipython3",
   "version": "3.7.6"
  },
  "papermill": {
   "duration": 1293.825449,
   "end_time": "2021-01-18T00:29:13.602789",
   "environment_variables": {},
   "exception": null,
   "input_path": "__notebook__.ipynb",
   "output_path": "__notebook__.ipynb",
   "parameters": {},
   "start_time": "2021-01-18T00:07:39.777340",
   "version": "2.1.0"
  }
 },
 "nbformat": 4,
 "nbformat_minor": 4
}
